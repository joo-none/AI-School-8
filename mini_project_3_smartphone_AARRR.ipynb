{
 "cells": [
  {
   "cell_type": "code",
   "execution_count": 1,
   "id": "251b1e49",
   "metadata": {
    "ExecuteTime": {
     "end_time": "2023-03-09T06:48:30.591218Z",
     "start_time": "2023-03-09T06:48:30.346515Z"
    }
   },
   "outputs": [],
   "source": [
    "# 라이브러리\n",
    "\n",
    "import pandas as pd\n"
   ]
  },
  {
   "cell_type": "code",
   "execution_count": 2,
   "id": "31e126ac",
   "metadata": {
    "ExecuteTime": {
     "end_time": "2023-03-09T06:48:39.444742Z",
     "start_time": "2023-03-09T06:48:30.624495Z"
    }
   },
   "outputs": [
    {
     "data": {
      "text/plain": [
       "(27838899, 7)"
      ]
     },
     "execution_count": 2,
     "metadata": {},
     "output_type": "execute_result"
    }
   ],
   "source": [
    "# 데이터\n",
    "\n",
    "df = pd.read_parquet('df.gzip')\n",
    "df.shape"
   ]
  },
  {
   "cell_type": "code",
   "execution_count": 3,
   "id": "4a1d4fa2",
   "metadata": {
    "ExecuteTime": {
     "end_time": "2023-03-09T06:48:39.491685Z",
     "start_time": "2023-03-09T06:48:39.478222Z"
    }
   },
   "outputs": [
    {
     "name": "stdout",
     "output_type": "stream",
     "text": [
      "<class 'pandas.core.frame.DataFrame'>\n",
      "Int64Index: 27838899 entries, 4 to 67501978\n",
      "Data columns (total 7 columns):\n",
      " #   Column        Dtype              \n",
      "---  ------        -----              \n",
      " 0   event_time    datetime64[ns, UTC]\n",
      " 1   event_type    object             \n",
      " 2   product_id    int64              \n",
      " 3   brand         object             \n",
      " 4   price         float64            \n",
      " 5   user_id       int64              \n",
      " 6   user_session  object             \n",
      "dtypes: datetime64[ns, UTC](1), float64(1), int64(2), object(3)\n",
      "memory usage: 1.7+ GB\n"
     ]
    }
   ],
   "source": [
    "df.info()"
   ]
  },
  {
   "cell_type": "code",
   "execution_count": 5,
   "id": "afa60cc0",
   "metadata": {
    "ExecuteTime": {
     "end_time": "2023-03-09T07:06:46.028073Z",
     "start_time": "2023-03-09T07:06:38.835697Z"
    }
   },
   "outputs": [
    {
     "data": {
      "text/plain": [
       "event_time      0\n",
       "event_type      0\n",
       "product_id      0\n",
       "brand           0\n",
       "price           0\n",
       "user_id         0\n",
       "user_session    0\n",
       "dtype: int64"
      ]
     },
     "execution_count": 5,
     "metadata": {},
     "output_type": "execute_result"
    }
   ],
   "source": [
    "# 결측치\n",
    "df.isnull().sum()"
   ]
  },
  {
   "cell_type": "code",
   "execution_count": 17,
   "id": "d67150fc",
   "metadata": {
    "ExecuteTime": {
     "end_time": "2023-03-09T07:14:38.331993Z",
     "start_time": "2023-03-09T07:14:38.319651Z"
    }
   },
   "outputs": [
    {
     "data": {
      "text/html": [
       "<div>\n",
       "<style scoped>\n",
       "    .dataframe tbody tr th:only-of-type {\n",
       "        vertical-align: middle;\n",
       "    }\n",
       "\n",
       "    .dataframe tbody tr th {\n",
       "        vertical-align: top;\n",
       "    }\n",
       "\n",
       "    .dataframe thead th {\n",
       "        text-align: right;\n",
       "    }\n",
       "</style>\n",
       "<table border=\"1\" class=\"dataframe\">\n",
       "  <thead>\n",
       "    <tr style=\"text-align: right;\">\n",
       "      <th></th>\n",
       "      <th>event_time</th>\n",
       "      <th>event_type</th>\n",
       "      <th>product_id</th>\n",
       "      <th>brand</th>\n",
       "      <th>price</th>\n",
       "      <th>user_id</th>\n",
       "      <th>user_session</th>\n",
       "    </tr>\n",
       "  </thead>\n",
       "  <tbody>\n",
       "    <tr>\n",
       "      <th>4</th>\n",
       "      <td>2019-10-01 00:00:04+00:00</td>\n",
       "      <td>view</td>\n",
       "      <td>1004237</td>\n",
       "      <td>apple</td>\n",
       "      <td>1081.98</td>\n",
       "      <td>535871217</td>\n",
       "      <td>c6bd7419-2748-4c56-95b4-8cec9ff8b80d</td>\n",
       "    </tr>\n",
       "    <tr>\n",
       "      <th>9</th>\n",
       "      <td>2019-10-01 00:00:11+00:00</td>\n",
       "      <td>view</td>\n",
       "      <td>1004545</td>\n",
       "      <td>huawei</td>\n",
       "      <td>566.01</td>\n",
       "      <td>537918940</td>\n",
       "      <td>406c46ed-90a4-4787-a43b-59a410c1a5fb</td>\n",
       "    </tr>\n",
       "    <tr>\n",
       "      <th>11</th>\n",
       "      <td>2019-10-01 00:00:11+00:00</td>\n",
       "      <td>view</td>\n",
       "      <td>1005011</td>\n",
       "      <td>samsung</td>\n",
       "      <td>900.64</td>\n",
       "      <td>530282093</td>\n",
       "      <td>50a293fb-5940-41b2-baf3-17af0e812101</td>\n",
       "    </tr>\n",
       "    <tr>\n",
       "      <th>19</th>\n",
       "      <td>2019-10-01 00:00:19+00:00</td>\n",
       "      <td>view</td>\n",
       "      <td>1005135</td>\n",
       "      <td>apple</td>\n",
       "      <td>1747.79</td>\n",
       "      <td>535871217</td>\n",
       "      <td>c6bd7419-2748-4c56-95b4-8cec9ff8b80d</td>\n",
       "    </tr>\n",
       "    <tr>\n",
       "      <th>20</th>\n",
       "      <td>2019-10-01 00:00:20+00:00</td>\n",
       "      <td>view</td>\n",
       "      <td>1003306</td>\n",
       "      <td>apple</td>\n",
       "      <td>588.77</td>\n",
       "      <td>555446831</td>\n",
       "      <td>6ec635da-ea15-4a5d-96b4-c8ca9d38f89f</td>\n",
       "    </tr>\n",
       "  </tbody>\n",
       "</table>\n",
       "</div>"
      ],
      "text/plain": [
       "                  event_time event_type  product_id    brand    price  \\\n",
       "4  2019-10-01 00:00:04+00:00       view     1004237    apple  1081.98   \n",
       "9  2019-10-01 00:00:11+00:00       view     1004545   huawei   566.01   \n",
       "11 2019-10-01 00:00:11+00:00       view     1005011  samsung   900.64   \n",
       "19 2019-10-01 00:00:19+00:00       view     1005135    apple  1747.79   \n",
       "20 2019-10-01 00:00:20+00:00       view     1003306    apple   588.77   \n",
       "\n",
       "      user_id                          user_session  \n",
       "4   535871217  c6bd7419-2748-4c56-95b4-8cec9ff8b80d  \n",
       "9   537918940  406c46ed-90a4-4787-a43b-59a410c1a5fb  \n",
       "11  530282093  50a293fb-5940-41b2-baf3-17af0e812101  \n",
       "19  535871217  c6bd7419-2748-4c56-95b4-8cec9ff8b80d  \n",
       "20  555446831  6ec635da-ea15-4a5d-96b4-c8ca9d38f89f  "
      ]
     },
     "execution_count": 17,
     "metadata": {},
     "output_type": "execute_result"
    }
   ],
   "source": [
    "df.head()"
   ]
  },
  {
   "cell_type": "markdown",
   "id": "b936cc30",
   "metadata": {},
   "source": [
    "# AARRR\n",
    "\n",
    "* Acquisition: 웹사이트에 유입된 방문자 수\n",
    "\n",
    "* Activation: 새로운 사용자의 가입 수 또는 앱 설치 수\n",
    "\n",
    "* Retention: 이전에 가입한 사용자들이 다시 방문한 수\n",
    "\n",
    "* Revenue: 결제 금액\n",
    "\n",
    "* Referral: 추천 수"
   ]
  },
  {
   "cell_type": "markdown",
   "id": "3826e0fa",
   "metadata": {},
   "source": [
    "## Acquisition\n",
    "\n",
    "웹사이트에 유입된 방문자 수"
   ]
  },
  {
   "cell_type": "code",
   "execution_count": 85,
   "id": "34f183c2",
   "metadata": {
    "ExecuteTime": {
     "end_time": "2023-03-10T12:30:12.871956Z",
     "start_time": "2023-03-10T12:30:12.240944Z"
    }
   },
   "outputs": [
    {
     "data": {
      "text/plain": [
       "2438160"
      ]
     },
     "execution_count": 85,
     "metadata": {},
     "output_type": "execute_result"
    }
   ],
   "source": [
    "# Acquisition\n",
    "# 웹사이트에 유입된 방문자 수\n",
    "acquisition = df['user_id'].nunique()\n",
    "acquisition"
   ]
  },
  {
   "cell_type": "markdown",
   "id": "50e08d6f",
   "metadata": {},
   "source": [
    "## Activation\n",
    "새로운 사용자의 가입 수 또는 앱 설치 수"
   ]
  },
  {
   "cell_type": "code",
   "execution_count": 77,
   "id": "d06b03ba",
   "metadata": {
    "ExecuteTime": {
     "end_time": "2023-03-10T12:23:22.798387Z",
     "start_time": "2023-03-10T12:23:20.541990Z"
    }
   },
   "outputs": [
    {
     "data": {
      "text/plain": [
       "2437591"
      ]
     },
     "execution_count": 77,
     "metadata": {},
     "output_type": "execute_result"
    }
   ],
   "source": [
    "# view한 유저 수\n",
    "df.loc[df['event_type'] == 'view', 'user_id'].nunique()"
   ]
  },
  {
   "cell_type": "code",
   "execution_count": 76,
   "id": "ee2c6394",
   "metadata": {
    "ExecuteTime": {
     "end_time": "2023-03-09T12:30:41.409435Z",
     "start_time": "2023-03-09T12:30:38.220341Z"
    },
    "scrolled": true
   },
   "outputs": [
    {
     "data": {
      "text/plain": [
       "brand\n",
       "samsung       8079940\n",
       "apple         7151172\n",
       "xiaomi        5188618\n",
       "huawei        2089356\n",
       "oppo          1203440\n",
       "meizu          346797\n",
       "vivo           259682\n",
       "honor          180558\n",
       "oneplus        172623\n",
       "nokia          160637\n",
       "sony           144566\n",
       "tp-link         49888\n",
       "lg              47808\n",
       "bq              47526\n",
       "doogee          39309\n",
       "inoi            37767\n",
       "google          34001\n",
       "prestigio       27640\n",
       "haier           23761\n",
       "zte             19993\n",
       "umi             19537\n",
       "tecno           12775\n",
       "asus            10558\n",
       "htc              9650\n",
       "blackberry       8352\n",
       "jinga            7704\n",
       "gionee           7582\n",
       "irbis            6662\n",
       "nubia            5070\n",
       "fly              5030\n",
       "texet            2934\n",
       "leeco            2649\n",
       "vertex           2257\n",
       "philips          1302\n",
       "micromax         1168\n",
       "oukitel           754\n",
       "leagoo            417\n",
       "lenovo            396\n",
       "hiper             115\n",
       "ark               102\n",
       "motorola           38\n",
       "bravis              2\n",
       "dtype: int64"
      ]
     },
     "execution_count": 76,
     "metadata": {},
     "output_type": "execute_result"
    }
   ],
   "source": [
    "# 브랜드별 총 view 수\n",
    "df[df['event_type'] == 'view'].value_counts('brand')"
   ]
  },
  {
   "cell_type": "code",
   "execution_count": 79,
   "id": "5508941c",
   "metadata": {
    "ExecuteTime": {
     "end_time": "2023-03-10T12:24:11.235848Z",
     "start_time": "2023-03-10T12:24:10.050408Z"
    }
   },
   "outputs": [
    {
     "data": {
      "text/plain": [
       "507409"
      ]
     },
     "execution_count": 79,
     "metadata": {},
     "output_type": "execute_result"
    }
   ],
   "source": [
    "# cart 한 유저 수\n",
    "df.loc[df['event_type'] == 'cart', 'user_id'].nunique()"
   ]
  },
  {
   "cell_type": "code",
   "execution_count": 81,
   "id": "f7d82973",
   "metadata": {
    "ExecuteTime": {
     "end_time": "2023-03-10T12:24:57.192538Z",
     "start_time": "2023-03-10T12:24:54.459701Z"
    },
    "scrolled": true
   },
   "outputs": [
    {
     "data": {
      "text/plain": [
       "brand\n",
       "samsung       710273\n",
       "apple         537804\n",
       "xiaomi        256386\n",
       "huawei        106939\n",
       "oppo           65174\n",
       "vivo            8911\n",
       "meizu           6698\n",
       "nokia           3000\n",
       "honor           2942\n",
       "oneplus         2367\n",
       "sony            1850\n",
       "tp-link         1271\n",
       "inoi             975\n",
       "prestigio        789\n",
       "umi              559\n",
       "zte              453\n",
       "bq               447\n",
       "haier            331\n",
       "lg               300\n",
       "doogee           283\n",
       "htc              186\n",
       "tecno            174\n",
       "jinga            145\n",
       "google           132\n",
       "fly               94\n",
       "asus              57\n",
       "gionee            41\n",
       "blackberry        26\n",
       "nubia             26\n",
       "texet             21\n",
       "irbis             19\n",
       "micromax          10\n",
       "lenovo             9\n",
       "vertex             2\n",
       "philips            1\n",
       "leeco              1\n",
       "dtype: int64"
      ]
     },
     "execution_count": 81,
     "metadata": {},
     "output_type": "execute_result"
    }
   ],
   "source": [
    "# 브랜드별 총 cart 수\n",
    "df[df['event_type'] == 'cart'].value_counts('brand')"
   ]
  },
  {
   "cell_type": "code",
   "execution_count": 80,
   "id": "0a5c6814",
   "metadata": {
    "ExecuteTime": {
     "end_time": "2023-03-10T12:24:16.614095Z",
     "start_time": "2023-03-10T12:24:15.450860Z"
    }
   },
   "outputs": [
    {
     "data": {
      "text/plain": [
       "321917"
      ]
     },
     "execution_count": 80,
     "metadata": {},
     "output_type": "execute_result"
    }
   ],
   "source": [
    "# purchase한 유저 수\n",
    "df.loc[df['event_type'] == 'purchase', 'user_id'].nunique()"
   ]
  },
  {
   "cell_type": "code",
   "execution_count": 82,
   "id": "5f8c8263",
   "metadata": {
    "ExecuteTime": {
     "end_time": "2023-03-10T12:25:28.027925Z",
     "start_time": "2023-03-10T12:25:26.884043Z"
    },
    "scrolled": true
   },
   "outputs": [
    {
     "data": {
      "text/plain": [
       "brand\n",
       "samsung       304914\n",
       "apple         242597\n",
       "xiaomi         87329\n",
       "huawei         43518\n",
       "oppo           25971\n",
       "vivo            3939\n",
       "meizu           3770\n",
       "honor           1254\n",
       "nokia           1166\n",
       "oneplus         1054\n",
       "sony             952\n",
       "tp-link          935\n",
       "prestigio        475\n",
       "inoi             398\n",
       "zte              285\n",
       "lg               212\n",
       "bq               188\n",
       "tecno            181\n",
       "umi              173\n",
       "haier            164\n",
       "doogee           144\n",
       "htc               87\n",
       "fly               75\n",
       "jinga             70\n",
       "google            63\n",
       "gionee            42\n",
       "blackberry        29\n",
       "asus              25\n",
       "texet             22\n",
       "irbis             15\n",
       "nubia             14\n",
       "philips            3\n",
       "lenovo             2\n",
       "micromax           1\n",
       "dtype: int64"
      ]
     },
     "execution_count": 82,
     "metadata": {},
     "output_type": "execute_result"
    }
   ],
   "source": [
    "# 브랜드별 총 purchase 수\n",
    "\n",
    "df[df['event_type'] == 'purchase'].value_counts('brand')"
   ]
  },
  {
   "cell_type": "markdown",
   "id": "2a4f9998",
   "metadata": {},
   "source": [
    "## Retention\n",
    "이전에 가입한 사용자들이 다시 방문한 수"
   ]
  },
  {
   "cell_type": "code",
   "execution_count": 51,
   "id": "29246128",
   "metadata": {
    "ExecuteTime": {
     "end_time": "2023-03-09T08:57:35.788940Z",
     "start_time": "2023-03-09T08:57:33.824924Z"
    }
   },
   "outputs": [
    {
     "data": {
      "text/plain": [
       "0.9997666272927125"
      ]
     },
     "execution_count": 51,
     "metadata": {},
     "output_type": "execute_result"
    }
   ],
   "source": [
    "# Retention\n",
    "# 이전에 가입한 사용자들이 다시 방문한 수\n",
    "\n",
    "# 유입자 수 대비 view 수\n",
    "retention = df.loc[df['event_type'] == 'view', 'user_id'].nunique() / acquisition\n",
    "retention"
   ]
  },
  {
   "cell_type": "code",
   "execution_count": null,
   "id": "3a42aa15",
   "metadata": {},
   "outputs": [],
   "source": [
    "# 유입자 수 대비 cart, purchase 수"
   ]
  },
  {
   "cell_type": "code",
   "execution_count": null,
   "id": "b577d44d",
   "metadata": {},
   "outputs": [],
   "source": [
    "# veiw 수 대비 cart, purchase 수"
   ]
  },
  {
   "cell_type": "markdown",
   "id": "e3757925",
   "metadata": {},
   "source": [
    "## Revenue\n",
    "총 결제 금액"
   ]
  },
  {
   "cell_type": "code",
   "execution_count": 57,
   "id": "c27603b6",
   "metadata": {
    "ExecuteTime": {
     "end_time": "2023-03-09T12:19:08.776902Z",
     "start_time": "2023-03-09T12:19:07.415034Z"
    }
   },
   "outputs": [
    {
     "data": {
      "text/plain": [
       "334493463.55999994"
      ]
     },
     "execution_count": 57,
     "metadata": {},
     "output_type": "execute_result"
    }
   ],
   "source": [
    "revenue = df.loc[df['event_type'] == 'purchase', 'price'].sum()\n",
    "revenue"
   ]
  },
  {
   "cell_type": "code",
   "execution_count": 70,
   "id": "60864cb5",
   "metadata": {
    "ExecuteTime": {
     "end_time": "2023-03-09T12:24:10.137727Z",
     "start_time": "2023-03-09T12:24:08.951490Z"
    },
    "scrolled": true
   },
   "outputs": [
    {
     "data": {
      "text/html": [
       "<div>\n",
       "<style scoped>\n",
       "    .dataframe tbody tr th:only-of-type {\n",
       "        vertical-align: middle;\n",
       "    }\n",
       "\n",
       "    .dataframe tbody tr th {\n",
       "        vertical-align: top;\n",
       "    }\n",
       "\n",
       "    .dataframe thead th {\n",
       "        text-align: right;\n",
       "    }\n",
       "</style>\n",
       "<table border=\"1\" class=\"dataframe\">\n",
       "  <thead>\n",
       "    <tr style=\"text-align: right;\">\n",
       "      <th></th>\n",
       "      <th>price</th>\n",
       "    </tr>\n",
       "    <tr>\n",
       "      <th>brand</th>\n",
       "      <th></th>\n",
       "    </tr>\n",
       "  </thead>\n",
       "  <tbody>\n",
       "    <tr>\n",
       "      <th>apple</th>\n",
       "      <td>2.178121e+08</td>\n",
       "    </tr>\n",
       "    <tr>\n",
       "      <th>samsung</th>\n",
       "      <td>8.008368e+07</td>\n",
       "    </tr>\n",
       "    <tr>\n",
       "      <th>xiaomi</th>\n",
       "      <td>1.790439e+07</td>\n",
       "    </tr>\n",
       "    <tr>\n",
       "      <th>huawei</th>\n",
       "      <td>9.253369e+06</td>\n",
       "    </tr>\n",
       "    <tr>\n",
       "      <th>oppo</th>\n",
       "      <td>5.901501e+06</td>\n",
       "    </tr>\n",
       "    <tr>\n",
       "      <th>vivo</th>\n",
       "      <td>1.011852e+06</td>\n",
       "    </tr>\n",
       "    <tr>\n",
       "      <th>oneplus</th>\n",
       "      <td>7.051321e+05</td>\n",
       "    </tr>\n",
       "    <tr>\n",
       "      <th>meizu</th>\n",
       "      <td>4.806958e+05</td>\n",
       "    </tr>\n",
       "    <tr>\n",
       "      <th>sony</th>\n",
       "      <td>3.475300e+05</td>\n",
       "    </tr>\n",
       "    <tr>\n",
       "      <th>honor</th>\n",
       "      <td>3.141343e+05</td>\n",
       "    </tr>\n",
       "    <tr>\n",
       "      <th>nokia</th>\n",
       "      <td>2.061545e+05</td>\n",
       "    </tr>\n",
       "    <tr>\n",
       "      <th>tp-link</th>\n",
       "      <td>1.066577e+05</td>\n",
       "    </tr>\n",
       "    <tr>\n",
       "      <th>umi</th>\n",
       "      <td>8.392097e+04</td>\n",
       "    </tr>\n",
       "    <tr>\n",
       "      <th>lg</th>\n",
       "      <td>6.464917e+04</td>\n",
       "    </tr>\n",
       "    <tr>\n",
       "      <th>google</th>\n",
       "      <td>4.004279e+04</td>\n",
       "    </tr>\n",
       "    <tr>\n",
       "      <th>prestigio</th>\n",
       "      <td>2.593315e+04</td>\n",
       "    </tr>\n",
       "    <tr>\n",
       "      <th>zte</th>\n",
       "      <td>2.252800e+04</td>\n",
       "    </tr>\n",
       "    <tr>\n",
       "      <th>inoi</th>\n",
       "      <td>2.065080e+04</td>\n",
       "    </tr>\n",
       "    <tr>\n",
       "      <th>tecno</th>\n",
       "      <td>1.903057e+04</td>\n",
       "    </tr>\n",
       "    <tr>\n",
       "      <th>doogee</th>\n",
       "      <td>1.739214e+04</td>\n",
       "    </tr>\n",
       "    <tr>\n",
       "      <th>haier</th>\n",
       "      <td>1.407380e+04</td>\n",
       "    </tr>\n",
       "    <tr>\n",
       "      <th>bq</th>\n",
       "      <td>1.293276e+04</td>\n",
       "    </tr>\n",
       "    <tr>\n",
       "      <th>blackberry</th>\n",
       "      <td>1.125166e+04</td>\n",
       "    </tr>\n",
       "    <tr>\n",
       "      <th>htc</th>\n",
       "      <td>8.955780e+03</td>\n",
       "    </tr>\n",
       "    <tr>\n",
       "      <th>asus</th>\n",
       "      <td>5.994770e+03</td>\n",
       "    </tr>\n",
       "    <tr>\n",
       "      <th>jinga</th>\n",
       "      <td>4.515710e+03</td>\n",
       "    </tr>\n",
       "    <tr>\n",
       "      <th>gionee</th>\n",
       "      <td>3.944290e+03</td>\n",
       "    </tr>\n",
       "    <tr>\n",
       "      <th>fly</th>\n",
       "      <td>3.427950e+03</td>\n",
       "    </tr>\n",
       "    <tr>\n",
       "      <th>texet</th>\n",
       "      <td>2.407020e+03</td>\n",
       "    </tr>\n",
       "    <tr>\n",
       "      <th>nubia</th>\n",
       "      <td>2.081080e+03</td>\n",
       "    </tr>\n",
       "    <tr>\n",
       "      <th>lenovo</th>\n",
       "      <td>1.235040e+03</td>\n",
       "    </tr>\n",
       "    <tr>\n",
       "      <th>irbis</th>\n",
       "      <td>9.861500e+02</td>\n",
       "    </tr>\n",
       "    <tr>\n",
       "      <th>philips</th>\n",
       "      <td>2.522600e+02</td>\n",
       "    </tr>\n",
       "    <tr>\n",
       "      <th>micromax</th>\n",
       "      <td>8.485000e+01</td>\n",
       "    </tr>\n",
       "  </tbody>\n",
       "</table>\n",
       "</div>"
      ],
      "text/plain": [
       "                   price\n",
       "brand                   \n",
       "apple       2.178121e+08\n",
       "samsung     8.008368e+07\n",
       "xiaomi      1.790439e+07\n",
       "huawei      9.253369e+06\n",
       "oppo        5.901501e+06\n",
       "vivo        1.011852e+06\n",
       "oneplus     7.051321e+05\n",
       "meizu       4.806958e+05\n",
       "sony        3.475300e+05\n",
       "honor       3.141343e+05\n",
       "nokia       2.061545e+05\n",
       "tp-link     1.066577e+05\n",
       "umi         8.392097e+04\n",
       "lg          6.464917e+04\n",
       "google      4.004279e+04\n",
       "prestigio   2.593315e+04\n",
       "zte         2.252800e+04\n",
       "inoi        2.065080e+04\n",
       "tecno       1.903057e+04\n",
       "doogee      1.739214e+04\n",
       "haier       1.407380e+04\n",
       "bq          1.293276e+04\n",
       "blackberry  1.125166e+04\n",
       "htc         8.955780e+03\n",
       "asus        5.994770e+03\n",
       "jinga       4.515710e+03\n",
       "gionee      3.944290e+03\n",
       "fly         3.427950e+03\n",
       "texet       2.407020e+03\n",
       "nubia       2.081080e+03\n",
       "lenovo      1.235040e+03\n",
       "irbis       9.861500e+02\n",
       "philips     2.522600e+02\n",
       "micromax    8.485000e+01"
      ]
     },
     "execution_count": 70,
     "metadata": {},
     "output_type": "execute_result"
    }
   ],
   "source": [
    "# 브랜드별 결제 금액(판매액)\n",
    "\n",
    "df[df['event_type'] == 'purchase'].groupby('brand').agg({'price':'sum'}).sort_values('price', ascending=False)"
   ]
  },
  {
   "cell_type": "markdown",
   "id": "97f39aca",
   "metadata": {},
   "source": [
    "## Referral\n",
    "추천 수 (기존 사용자가 새로운 사용자 유입에 기여하는 것)"
   ]
  },
  {
   "cell_type": "code",
   "execution_count": 54,
   "id": "903ecdd7",
   "metadata": {
    "ExecuteTime": {
     "end_time": "2023-03-09T08:58:13.284197Z",
     "start_time": "2023-03-09T08:58:05.814001Z"
    }
   },
   "outputs": [
    {
     "data": {
      "text/plain": [
       "7296964"
      ]
     },
     "execution_count": 54,
     "metadata": {},
     "output_type": "execute_result"
    }
   ],
   "source": [
    "# Referral\n",
    "# 추천 수\n",
    "\n",
    "referral = df.loc[df['event_type'] == 'view', 'user_session'].nunique()\n",
    "referral"
   ]
  },
  {
   "cell_type": "code",
   "execution_count": null,
   "id": "08389654",
   "metadata": {},
   "outputs": [],
   "source": []
  },
  {
   "cell_type": "markdown",
   "id": "80dab77f",
   "metadata": {},
   "source": [
    "# 리텐션 분석"
   ]
  },
  {
   "cell_type": "markdown",
   "id": "9e5484e8",
   "metadata": {},
   "source": [
    "## view 수 대비 cart, purchase 수"
   ]
  },
  {
   "cell_type": "code",
   "execution_count": null,
   "id": "0126e03d",
   "metadata": {},
   "outputs": [],
   "source": [
    "# # 리텐션 분석\n",
    "\n",
    "# 브랜드별 재구매율\n",
    "# 월별 재구매율\n",
    "\n",
    "# # \n",
    "\n",
    "# 가설을 어떻게 세워서 분석을 해야할까,,"
   ]
  },
  {
   "cell_type": "code",
   "execution_count": null,
   "id": "71dd4e33",
   "metadata": {},
   "outputs": [],
   "source": [
    "df['user_id'].nunique()"
   ]
  },
  {
   "cell_type": "code",
   "execution_count": null,
   "id": "93e01c26",
   "metadata": {},
   "outputs": [],
   "source": [
    "df['user_id'].value_counts()"
   ]
  },
  {
   "cell_type": "code",
   "execution_count": 38,
   "id": "7e53899f",
   "metadata": {
    "ExecuteTime": {
     "end_time": "2023-03-09T08:30:16.040601Z",
     "start_time": "2023-03-09T08:30:10.405321Z"
    }
   },
   "outputs": [
    {
     "data": {
      "text/html": [
       "<div>\n",
       "<style scoped>\n",
       "    .dataframe tbody tr th:only-of-type {\n",
       "        vertical-align: middle;\n",
       "    }\n",
       "\n",
       "    .dataframe tbody tr th {\n",
       "        vertical-align: top;\n",
       "    }\n",
       "\n",
       "    .dataframe thead th {\n",
       "        text-align: right;\n",
       "    }\n",
       "</style>\n",
       "<table border=\"1\" class=\"dataframe\">\n",
       "  <thead>\n",
       "    <tr style=\"text-align: right;\">\n",
       "      <th>event_type</th>\n",
       "      <th>cart</th>\n",
       "      <th>purchase</th>\n",
       "      <th>view</th>\n",
       "    </tr>\n",
       "    <tr>\n",
       "      <th>user_id</th>\n",
       "      <th></th>\n",
       "      <th></th>\n",
       "      <th></th>\n",
       "    </tr>\n",
       "  </thead>\n",
       "  <tbody>\n",
       "    <tr>\n",
       "      <th>31198833</th>\n",
       "      <td>0</td>\n",
       "      <td>0</td>\n",
       "      <td>18</td>\n",
       "    </tr>\n",
       "    <tr>\n",
       "      <th>41798457</th>\n",
       "      <td>0</td>\n",
       "      <td>0</td>\n",
       "      <td>1</td>\n",
       "    </tr>\n",
       "    <tr>\n",
       "      <th>88309646</th>\n",
       "      <td>0</td>\n",
       "      <td>0</td>\n",
       "      <td>1</td>\n",
       "    </tr>\n",
       "    <tr>\n",
       "      <th>94566147</th>\n",
       "      <td>1</td>\n",
       "      <td>0</td>\n",
       "      <td>21</td>\n",
       "    </tr>\n",
       "    <tr>\n",
       "      <th>94584874</th>\n",
       "      <td>0</td>\n",
       "      <td>0</td>\n",
       "      <td>1</td>\n",
       "    </tr>\n",
       "    <tr>\n",
       "      <th>...</th>\n",
       "      <td>...</td>\n",
       "      <td>...</td>\n",
       "      <td>...</td>\n",
       "    </tr>\n",
       "    <tr>\n",
       "      <th>579968863</th>\n",
       "      <td>0</td>\n",
       "      <td>0</td>\n",
       "      <td>1</td>\n",
       "    </tr>\n",
       "    <tr>\n",
       "      <th>579969045</th>\n",
       "      <td>0</td>\n",
       "      <td>0</td>\n",
       "      <td>11</td>\n",
       "    </tr>\n",
       "    <tr>\n",
       "      <th>579969525</th>\n",
       "      <td>0</td>\n",
       "      <td>0</td>\n",
       "      <td>1</td>\n",
       "    </tr>\n",
       "    <tr>\n",
       "      <th>579969570</th>\n",
       "      <td>0</td>\n",
       "      <td>0</td>\n",
       "      <td>3</td>\n",
       "    </tr>\n",
       "    <tr>\n",
       "      <th>579969851</th>\n",
       "      <td>0</td>\n",
       "      <td>0</td>\n",
       "      <td>1</td>\n",
       "    </tr>\n",
       "  </tbody>\n",
       "</table>\n",
       "<p>2438160 rows × 3 columns</p>\n",
       "</div>"
      ],
      "text/plain": [
       "event_type  cart  purchase  view\n",
       "user_id                         \n",
       "31198833       0         0    18\n",
       "41798457       0         0     1\n",
       "88309646       0         0     1\n",
       "94566147       1         0    21\n",
       "94584874       0         0     1\n",
       "...          ...       ...   ...\n",
       "579968863      0         0     1\n",
       "579969045      0         0    11\n",
       "579969525      0         0     1\n",
       "579969570      0         0     3\n",
       "579969851      0         0     1\n",
       "\n",
       "[2438160 rows x 3 columns]"
      ]
     },
     "execution_count": 38,
     "metadata": {},
     "output_type": "execute_result"
    }
   ],
   "source": [
    "# user_id별 event_type \n",
    "\n",
    "et = df.pivot_table(index='user_id',\n",
    "                   columns='event_type',\n",
    "                   values='event_time',\n",
    "                  aggfunc='count', fill_value=0).sort_values('user_id')\n",
    "et"
   ]
  },
  {
   "cell_type": "code",
   "execution_count": 41,
   "id": "8761d931",
   "metadata": {
    "ExecuteTime": {
     "end_time": "2023-03-09T08:32:09.358197Z",
     "start_time": "2023-03-09T08:32:09.337146Z"
    }
   },
   "outputs": [
    {
     "data": {
      "text/html": [
       "<div>\n",
       "<style scoped>\n",
       "    .dataframe tbody tr th:only-of-type {\n",
       "        vertical-align: middle;\n",
       "    }\n",
       "\n",
       "    .dataframe tbody tr th {\n",
       "        vertical-align: top;\n",
       "    }\n",
       "\n",
       "    .dataframe thead th {\n",
       "        text-align: right;\n",
       "    }\n",
       "</style>\n",
       "<table border=\"1\" class=\"dataframe\">\n",
       "  <thead>\n",
       "    <tr style=\"text-align: right;\">\n",
       "      <th>event_type</th>\n",
       "      <th>cart</th>\n",
       "      <th>purchase</th>\n",
       "      <th>view</th>\n",
       "      <th>cart/view</th>\n",
       "      <th>cart / view</th>\n",
       "    </tr>\n",
       "    <tr>\n",
       "      <th>user_id</th>\n",
       "      <th></th>\n",
       "      <th></th>\n",
       "      <th></th>\n",
       "      <th></th>\n",
       "      <th></th>\n",
       "    </tr>\n",
       "  </thead>\n",
       "  <tbody>\n",
       "    <tr>\n",
       "      <th>31198833</th>\n",
       "      <td>0</td>\n",
       "      <td>0</td>\n",
       "      <td>18</td>\n",
       "      <td>0.000000</td>\n",
       "      <td>0.000000</td>\n",
       "    </tr>\n",
       "    <tr>\n",
       "      <th>41798457</th>\n",
       "      <td>0</td>\n",
       "      <td>0</td>\n",
       "      <td>1</td>\n",
       "      <td>0.000000</td>\n",
       "      <td>0.000000</td>\n",
       "    </tr>\n",
       "    <tr>\n",
       "      <th>88309646</th>\n",
       "      <td>0</td>\n",
       "      <td>0</td>\n",
       "      <td>1</td>\n",
       "      <td>0.000000</td>\n",
       "      <td>0.000000</td>\n",
       "    </tr>\n",
       "    <tr>\n",
       "      <th>94566147</th>\n",
       "      <td>1</td>\n",
       "      <td>0</td>\n",
       "      <td>21</td>\n",
       "      <td>0.047619</td>\n",
       "      <td>0.047619</td>\n",
       "    </tr>\n",
       "    <tr>\n",
       "      <th>94584874</th>\n",
       "      <td>0</td>\n",
       "      <td>0</td>\n",
       "      <td>1</td>\n",
       "      <td>0.000000</td>\n",
       "      <td>0.000000</td>\n",
       "    </tr>\n",
       "  </tbody>\n",
       "</table>\n",
       "</div>"
      ],
      "text/plain": [
       "event_type  cart  purchase  view  cart/view  cart / view\n",
       "user_id                                                 \n",
       "31198833       0         0    18   0.000000     0.000000\n",
       "41798457       0         0     1   0.000000     0.000000\n",
       "88309646       0         0     1   0.000000     0.000000\n",
       "94566147       1         0    21   0.047619     0.047619\n",
       "94584874       0         0     1   0.000000     0.000000"
      ]
     },
     "execution_count": 41,
     "metadata": {},
     "output_type": "execute_result"
    }
   ],
   "source": [
    "et['cart / view'] = et['cart'] / et['view']\n",
    "et.head()"
   ]
  },
  {
   "cell_type": "code",
   "execution_count": 42,
   "id": "e2590d62",
   "metadata": {
    "ExecuteTime": {
     "end_time": "2023-03-09T08:32:25.735123Z",
     "start_time": "2023-03-09T08:32:25.711182Z"
    }
   },
   "outputs": [
    {
     "data": {
      "text/html": [
       "<div>\n",
       "<style scoped>\n",
       "    .dataframe tbody tr th:only-of-type {\n",
       "        vertical-align: middle;\n",
       "    }\n",
       "\n",
       "    .dataframe tbody tr th {\n",
       "        vertical-align: top;\n",
       "    }\n",
       "\n",
       "    .dataframe thead th {\n",
       "        text-align: right;\n",
       "    }\n",
       "</style>\n",
       "<table border=\"1\" class=\"dataframe\">\n",
       "  <thead>\n",
       "    <tr style=\"text-align: right;\">\n",
       "      <th>event_type</th>\n",
       "      <th>cart</th>\n",
       "      <th>purchase</th>\n",
       "      <th>view</th>\n",
       "      <th>cart/view</th>\n",
       "      <th>cart / view</th>\n",
       "      <th>purchase / view</th>\n",
       "    </tr>\n",
       "    <tr>\n",
       "      <th>user_id</th>\n",
       "      <th></th>\n",
       "      <th></th>\n",
       "      <th></th>\n",
       "      <th></th>\n",
       "      <th></th>\n",
       "      <th></th>\n",
       "    </tr>\n",
       "  </thead>\n",
       "  <tbody>\n",
       "    <tr>\n",
       "      <th>31198833</th>\n",
       "      <td>0</td>\n",
       "      <td>0</td>\n",
       "      <td>18</td>\n",
       "      <td>0.000000</td>\n",
       "      <td>0.000000</td>\n",
       "      <td>0.0</td>\n",
       "    </tr>\n",
       "    <tr>\n",
       "      <th>41798457</th>\n",
       "      <td>0</td>\n",
       "      <td>0</td>\n",
       "      <td>1</td>\n",
       "      <td>0.000000</td>\n",
       "      <td>0.000000</td>\n",
       "      <td>0.0</td>\n",
       "    </tr>\n",
       "    <tr>\n",
       "      <th>88309646</th>\n",
       "      <td>0</td>\n",
       "      <td>0</td>\n",
       "      <td>1</td>\n",
       "      <td>0.000000</td>\n",
       "      <td>0.000000</td>\n",
       "      <td>0.0</td>\n",
       "    </tr>\n",
       "    <tr>\n",
       "      <th>94566147</th>\n",
       "      <td>1</td>\n",
       "      <td>0</td>\n",
       "      <td>21</td>\n",
       "      <td>0.047619</td>\n",
       "      <td>0.047619</td>\n",
       "      <td>0.0</td>\n",
       "    </tr>\n",
       "    <tr>\n",
       "      <th>94584874</th>\n",
       "      <td>0</td>\n",
       "      <td>0</td>\n",
       "      <td>1</td>\n",
       "      <td>0.000000</td>\n",
       "      <td>0.000000</td>\n",
       "      <td>0.0</td>\n",
       "    </tr>\n",
       "  </tbody>\n",
       "</table>\n",
       "</div>"
      ],
      "text/plain": [
       "event_type  cart  purchase  view  cart/view  cart / view  purchase / view\n",
       "user_id                                                                  \n",
       "31198833       0         0    18   0.000000     0.000000              0.0\n",
       "41798457       0         0     1   0.000000     0.000000              0.0\n",
       "88309646       0         0     1   0.000000     0.000000              0.0\n",
       "94566147       1         0    21   0.047619     0.047619              0.0\n",
       "94584874       0         0     1   0.000000     0.000000              0.0"
      ]
     },
     "execution_count": 42,
     "metadata": {},
     "output_type": "execute_result"
    }
   ],
   "source": [
    "et['purchase / view'] = et['purchase'] / et['view']\n",
    "et.head()"
   ]
  },
  {
   "cell_type": "code",
   "execution_count": 45,
   "id": "5ddd44f4",
   "metadata": {
    "ExecuteTime": {
     "end_time": "2023-03-09T08:33:20.534312Z",
     "start_time": "2023-03-09T08:33:20.516264Z"
    }
   },
   "outputs": [
    {
     "data": {
      "text/html": [
       "<div>\n",
       "<style scoped>\n",
       "    .dataframe tbody tr th:only-of-type {\n",
       "        vertical-align: middle;\n",
       "    }\n",
       "\n",
       "    .dataframe tbody tr th {\n",
       "        vertical-align: top;\n",
       "    }\n",
       "\n",
       "    .dataframe thead th {\n",
       "        text-align: right;\n",
       "    }\n",
       "</style>\n",
       "<table border=\"1\" class=\"dataframe\">\n",
       "  <thead>\n",
       "    <tr style=\"text-align: right;\">\n",
       "      <th>event_type</th>\n",
       "      <th>cart</th>\n",
       "      <th>purchase</th>\n",
       "      <th>view</th>\n",
       "      <th>cart / view</th>\n",
       "      <th>purchase / view</th>\n",
       "      <th>purchase / cart</th>\n",
       "    </tr>\n",
       "    <tr>\n",
       "      <th>user_id</th>\n",
       "      <th></th>\n",
       "      <th></th>\n",
       "      <th></th>\n",
       "      <th></th>\n",
       "      <th></th>\n",
       "      <th></th>\n",
       "    </tr>\n",
       "  </thead>\n",
       "  <tbody>\n",
       "    <tr>\n",
       "      <th>31198833</th>\n",
       "      <td>0</td>\n",
       "      <td>0</td>\n",
       "      <td>18</td>\n",
       "      <td>0.000000</td>\n",
       "      <td>0.0</td>\n",
       "      <td>NaN</td>\n",
       "    </tr>\n",
       "    <tr>\n",
       "      <th>41798457</th>\n",
       "      <td>0</td>\n",
       "      <td>0</td>\n",
       "      <td>1</td>\n",
       "      <td>0.000000</td>\n",
       "      <td>0.0</td>\n",
       "      <td>NaN</td>\n",
       "    </tr>\n",
       "    <tr>\n",
       "      <th>88309646</th>\n",
       "      <td>0</td>\n",
       "      <td>0</td>\n",
       "      <td>1</td>\n",
       "      <td>0.000000</td>\n",
       "      <td>0.0</td>\n",
       "      <td>NaN</td>\n",
       "    </tr>\n",
       "    <tr>\n",
       "      <th>94566147</th>\n",
       "      <td>1</td>\n",
       "      <td>0</td>\n",
       "      <td>21</td>\n",
       "      <td>0.047619</td>\n",
       "      <td>0.0</td>\n",
       "      <td>0.0</td>\n",
       "    </tr>\n",
       "    <tr>\n",
       "      <th>94584874</th>\n",
       "      <td>0</td>\n",
       "      <td>0</td>\n",
       "      <td>1</td>\n",
       "      <td>0.000000</td>\n",
       "      <td>0.0</td>\n",
       "      <td>NaN</td>\n",
       "    </tr>\n",
       "  </tbody>\n",
       "</table>\n",
       "</div>"
      ],
      "text/plain": [
       "event_type  cart  purchase  view  cart / view  purchase / view  \\\n",
       "user_id                                                          \n",
       "31198833       0         0    18     0.000000              0.0   \n",
       "41798457       0         0     1     0.000000              0.0   \n",
       "88309646       0         0     1     0.000000              0.0   \n",
       "94566147       1         0    21     0.047619              0.0   \n",
       "94584874       0         0     1     0.000000              0.0   \n",
       "\n",
       "event_type  purchase / cart  \n",
       "user_id                      \n",
       "31198833                NaN  \n",
       "41798457                NaN  \n",
       "88309646                NaN  \n",
       "94566147                0.0  \n",
       "94584874                NaN  "
      ]
     },
     "execution_count": 45,
     "metadata": {},
     "output_type": "execute_result"
    }
   ],
   "source": [
    "et['purchase / cart'] = et['purchase'] / et['cart']\n",
    "et.head()"
   ]
  },
  {
   "cell_type": "code",
   "execution_count": 48,
   "id": "98e452c4",
   "metadata": {
    "ExecuteTime": {
     "end_time": "2023-03-09T08:43:29.488337Z",
     "start_time": "2023-03-09T08:43:29.283876Z"
    }
   },
   "outputs": [
    {
     "data": {
      "text/html": [
       "<div>\n",
       "<style scoped>\n",
       "    .dataframe tbody tr th:only-of-type {\n",
       "        vertical-align: middle;\n",
       "    }\n",
       "\n",
       "    .dataframe tbody tr th {\n",
       "        vertical-align: top;\n",
       "    }\n",
       "\n",
       "    .dataframe thead th {\n",
       "        text-align: right;\n",
       "    }\n",
       "</style>\n",
       "<table border=\"1\" class=\"dataframe\">\n",
       "  <thead>\n",
       "    <tr style=\"text-align: right;\">\n",
       "      <th>event_type</th>\n",
       "      <th>cart</th>\n",
       "      <th>purchase</th>\n",
       "      <th>view</th>\n",
       "      <th>cart / view</th>\n",
       "      <th>purchase / view</th>\n",
       "      <th>purchase / cart</th>\n",
       "    </tr>\n",
       "    <tr>\n",
       "      <th>user_id</th>\n",
       "      <th></th>\n",
       "      <th></th>\n",
       "      <th></th>\n",
       "      <th></th>\n",
       "      <th></th>\n",
       "      <th></th>\n",
       "    </tr>\n",
       "  </thead>\n",
       "  <tbody>\n",
       "    <tr>\n",
       "      <th>518720341</th>\n",
       "      <td>2</td>\n",
       "      <td>0</td>\n",
       "      <td>0</td>\n",
       "      <td>inf</td>\n",
       "      <td>NaN</td>\n",
       "      <td>0.0</td>\n",
       "    </tr>\n",
       "    <tr>\n",
       "      <th>566023028</th>\n",
       "      <td>4</td>\n",
       "      <td>0</td>\n",
       "      <td>0</td>\n",
       "      <td>inf</td>\n",
       "      <td>NaN</td>\n",
       "      <td>0.0</td>\n",
       "    </tr>\n",
       "    <tr>\n",
       "      <th>556396381</th>\n",
       "      <td>1</td>\n",
       "      <td>0</td>\n",
       "      <td>0</td>\n",
       "      <td>inf</td>\n",
       "      <td>NaN</td>\n",
       "      <td>0.0</td>\n",
       "    </tr>\n",
       "    <tr>\n",
       "      <th>556623811</th>\n",
       "      <td>2</td>\n",
       "      <td>0</td>\n",
       "      <td>0</td>\n",
       "      <td>inf</td>\n",
       "      <td>NaN</td>\n",
       "      <td>0.0</td>\n",
       "    </tr>\n",
       "    <tr>\n",
       "      <th>577448808</th>\n",
       "      <td>6</td>\n",
       "      <td>0</td>\n",
       "      <td>0</td>\n",
       "      <td>inf</td>\n",
       "      <td>NaN</td>\n",
       "      <td>0.0</td>\n",
       "    </tr>\n",
       "    <tr>\n",
       "      <th>...</th>\n",
       "      <td>...</td>\n",
       "      <td>...</td>\n",
       "      <td>...</td>\n",
       "      <td>...</td>\n",
       "      <td>...</td>\n",
       "      <td>...</td>\n",
       "    </tr>\n",
       "    <tr>\n",
       "      <th>578763385</th>\n",
       "      <td>0</td>\n",
       "      <td>1</td>\n",
       "      <td>0</td>\n",
       "      <td>NaN</td>\n",
       "      <td>inf</td>\n",
       "      <td>inf</td>\n",
       "    </tr>\n",
       "    <tr>\n",
       "      <th>578766278</th>\n",
       "      <td>0</td>\n",
       "      <td>1</td>\n",
       "      <td>0</td>\n",
       "      <td>NaN</td>\n",
       "      <td>inf</td>\n",
       "      <td>inf</td>\n",
       "    </tr>\n",
       "    <tr>\n",
       "      <th>578792728</th>\n",
       "      <td>0</td>\n",
       "      <td>1</td>\n",
       "      <td>0</td>\n",
       "      <td>NaN</td>\n",
       "      <td>inf</td>\n",
       "      <td>inf</td>\n",
       "    </tr>\n",
       "    <tr>\n",
       "      <th>578938529</th>\n",
       "      <td>0</td>\n",
       "      <td>1</td>\n",
       "      <td>0</td>\n",
       "      <td>NaN</td>\n",
       "      <td>inf</td>\n",
       "      <td>inf</td>\n",
       "    </tr>\n",
       "    <tr>\n",
       "      <th>579850667</th>\n",
       "      <td>0</td>\n",
       "      <td>1</td>\n",
       "      <td>0</td>\n",
       "      <td>NaN</td>\n",
       "      <td>inf</td>\n",
       "      <td>inf</td>\n",
       "    </tr>\n",
       "  </tbody>\n",
       "</table>\n",
       "<p>2438160 rows × 6 columns</p>\n",
       "</div>"
      ],
      "text/plain": [
       "event_type  cart  purchase  view  cart / view  purchase / view  \\\n",
       "user_id                                                          \n",
       "518720341      2         0     0          inf              NaN   \n",
       "566023028      4         0     0          inf              NaN   \n",
       "556396381      1         0     0          inf              NaN   \n",
       "556623811      2         0     0          inf              NaN   \n",
       "577448808      6         0     0          inf              NaN   \n",
       "...          ...       ...   ...          ...              ...   \n",
       "578763385      0         1     0          NaN              inf   \n",
       "578766278      0         1     0          NaN              inf   \n",
       "578792728      0         1     0          NaN              inf   \n",
       "578938529      0         1     0          NaN              inf   \n",
       "579850667      0         1     0          NaN              inf   \n",
       "\n",
       "event_type  purchase / cart  \n",
       "user_id                      \n",
       "518720341               0.0  \n",
       "566023028               0.0  \n",
       "556396381               0.0  \n",
       "556623811               0.0  \n",
       "577448808               0.0  \n",
       "...                     ...  \n",
       "578763385               inf  \n",
       "578766278               inf  \n",
       "578792728               inf  \n",
       "578938529               inf  \n",
       "579850667               inf  \n",
       "\n",
       "[2438160 rows x 6 columns]"
      ]
     },
     "execution_count": 48,
     "metadata": {},
     "output_type": "execute_result"
    }
   ],
   "source": [
    "et.sort_values('cart / view', ascending=False)"
   ]
  },
  {
   "cell_type": "code",
   "execution_count": null,
   "id": "f1fe1555",
   "metadata": {
    "ExecuteTime": {
     "end_time": "2023-03-10T12:52:02.734234Z",
     "start_time": "2023-03-10T12:52:02.684192Z"
    }
   },
   "outputs": [],
   "source": []
  },
  {
   "cell_type": "code",
   "execution_count": 87,
   "id": "fa5c49a9",
   "metadata": {
    "ExecuteTime": {
     "end_time": "2023-03-10T12:35:12.469102Z",
     "start_time": "2023-03-10T12:35:12.404395Z"
    },
    "scrolled": false
   },
   "outputs": [
    {
     "data": {
      "text/html": [
       "<div>\n",
       "<style scoped>\n",
       "    .dataframe tbody tr th:only-of-type {\n",
       "        vertical-align: middle;\n",
       "    }\n",
       "\n",
       "    .dataframe tbody tr th {\n",
       "        vertical-align: top;\n",
       "    }\n",
       "\n",
       "    .dataframe thead th {\n",
       "        text-align: right;\n",
       "    }\n",
       "</style>\n",
       "<table border=\"1\" class=\"dataframe\">\n",
       "  <thead>\n",
       "    <tr style=\"text-align: right;\">\n",
       "      <th>event_type</th>\n",
       "      <th>cart</th>\n",
       "      <th>purchase</th>\n",
       "      <th>view</th>\n",
       "      <th>cart / view</th>\n",
       "      <th>purchase / view</th>\n",
       "      <th>purchase / cart</th>\n",
       "    </tr>\n",
       "    <tr>\n",
       "      <th>user_id</th>\n",
       "      <th></th>\n",
       "      <th></th>\n",
       "      <th></th>\n",
       "      <th></th>\n",
       "      <th></th>\n",
       "      <th></th>\n",
       "    </tr>\n",
       "  </thead>\n",
       "  <tbody>\n",
       "    <tr>\n",
       "      <th>528279270</th>\n",
       "      <td>0</td>\n",
       "      <td>0</td>\n",
       "      <td>5</td>\n",
       "      <td>0.000000</td>\n",
       "      <td>0.000000</td>\n",
       "      <td>NaN</td>\n",
       "    </tr>\n",
       "    <tr>\n",
       "      <th>566156164</th>\n",
       "      <td>0</td>\n",
       "      <td>0</td>\n",
       "      <td>2</td>\n",
       "      <td>0.000000</td>\n",
       "      <td>0.000000</td>\n",
       "      <td>NaN</td>\n",
       "    </tr>\n",
       "    <tr>\n",
       "      <th>569900623</th>\n",
       "      <td>0</td>\n",
       "      <td>0</td>\n",
       "      <td>1</td>\n",
       "      <td>0.000000</td>\n",
       "      <td>0.000000</td>\n",
       "      <td>NaN</td>\n",
       "    </tr>\n",
       "    <tr>\n",
       "      <th>545830244</th>\n",
       "      <td>9</td>\n",
       "      <td>2</td>\n",
       "      <td>52</td>\n",
       "      <td>0.173077</td>\n",
       "      <td>0.038462</td>\n",
       "      <td>0.222222</td>\n",
       "    </tr>\n",
       "    <tr>\n",
       "      <th>576072323</th>\n",
       "      <td>0</td>\n",
       "      <td>0</td>\n",
       "      <td>1</td>\n",
       "      <td>0.000000</td>\n",
       "      <td>0.000000</td>\n",
       "      <td>NaN</td>\n",
       "    </tr>\n",
       "    <tr>\n",
       "      <th>538245864</th>\n",
       "      <td>0</td>\n",
       "      <td>0</td>\n",
       "      <td>48</td>\n",
       "      <td>0.000000</td>\n",
       "      <td>0.000000</td>\n",
       "      <td>NaN</td>\n",
       "    </tr>\n",
       "    <tr>\n",
       "      <th>578253312</th>\n",
       "      <td>0</td>\n",
       "      <td>0</td>\n",
       "      <td>4</td>\n",
       "      <td>0.000000</td>\n",
       "      <td>0.000000</td>\n",
       "      <td>NaN</td>\n",
       "    </tr>\n",
       "    <tr>\n",
       "      <th>537623432</th>\n",
       "      <td>0</td>\n",
       "      <td>0</td>\n",
       "      <td>3</td>\n",
       "      <td>0.000000</td>\n",
       "      <td>0.000000</td>\n",
       "      <td>NaN</td>\n",
       "    </tr>\n",
       "    <tr>\n",
       "      <th>567372460</th>\n",
       "      <td>0</td>\n",
       "      <td>0</td>\n",
       "      <td>8</td>\n",
       "      <td>0.000000</td>\n",
       "      <td>0.000000</td>\n",
       "      <td>NaN</td>\n",
       "    </tr>\n",
       "    <tr>\n",
       "      <th>522370030</th>\n",
       "      <td>0</td>\n",
       "      <td>0</td>\n",
       "      <td>1</td>\n",
       "      <td>0.000000</td>\n",
       "      <td>0.000000</td>\n",
       "      <td>NaN</td>\n",
       "    </tr>\n",
       "    <tr>\n",
       "      <th>556213892</th>\n",
       "      <td>2</td>\n",
       "      <td>0</td>\n",
       "      <td>15</td>\n",
       "      <td>0.133333</td>\n",
       "      <td>0.000000</td>\n",
       "      <td>0.000000</td>\n",
       "    </tr>\n",
       "    <tr>\n",
       "      <th>573298144</th>\n",
       "      <td>1</td>\n",
       "      <td>1</td>\n",
       "      <td>5</td>\n",
       "      <td>0.200000</td>\n",
       "      <td>0.200000</td>\n",
       "      <td>1.000000</td>\n",
       "    </tr>\n",
       "    <tr>\n",
       "      <th>515705247</th>\n",
       "      <td>0</td>\n",
       "      <td>0</td>\n",
       "      <td>48</td>\n",
       "      <td>0.000000</td>\n",
       "      <td>0.000000</td>\n",
       "      <td>NaN</td>\n",
       "    </tr>\n",
       "    <tr>\n",
       "      <th>552272202</th>\n",
       "      <td>0</td>\n",
       "      <td>0</td>\n",
       "      <td>5</td>\n",
       "      <td>0.000000</td>\n",
       "      <td>0.000000</td>\n",
       "      <td>NaN</td>\n",
       "    </tr>\n",
       "    <tr>\n",
       "      <th>574521066</th>\n",
       "      <td>0</td>\n",
       "      <td>0</td>\n",
       "      <td>4</td>\n",
       "      <td>0.000000</td>\n",
       "      <td>0.000000</td>\n",
       "      <td>NaN</td>\n",
       "    </tr>\n",
       "    <tr>\n",
       "      <th>566875559</th>\n",
       "      <td>0</td>\n",
       "      <td>0</td>\n",
       "      <td>2</td>\n",
       "      <td>0.000000</td>\n",
       "      <td>0.000000</td>\n",
       "      <td>NaN</td>\n",
       "    </tr>\n",
       "    <tr>\n",
       "      <th>566356364</th>\n",
       "      <td>0</td>\n",
       "      <td>0</td>\n",
       "      <td>30</td>\n",
       "      <td>0.000000</td>\n",
       "      <td>0.000000</td>\n",
       "      <td>NaN</td>\n",
       "    </tr>\n",
       "    <tr>\n",
       "      <th>530459365</th>\n",
       "      <td>0</td>\n",
       "      <td>0</td>\n",
       "      <td>3</td>\n",
       "      <td>0.000000</td>\n",
       "      <td>0.000000</td>\n",
       "      <td>NaN</td>\n",
       "    </tr>\n",
       "    <tr>\n",
       "      <th>563180625</th>\n",
       "      <td>0</td>\n",
       "      <td>0</td>\n",
       "      <td>1</td>\n",
       "      <td>0.000000</td>\n",
       "      <td>0.000000</td>\n",
       "      <td>NaN</td>\n",
       "    </tr>\n",
       "    <tr>\n",
       "      <th>537235137</th>\n",
       "      <td>13</td>\n",
       "      <td>1</td>\n",
       "      <td>26</td>\n",
       "      <td>0.500000</td>\n",
       "      <td>0.038462</td>\n",
       "      <td>0.076923</td>\n",
       "    </tr>\n",
       "    <tr>\n",
       "      <th>513434204</th>\n",
       "      <td>0</td>\n",
       "      <td>0</td>\n",
       "      <td>1</td>\n",
       "      <td>0.000000</td>\n",
       "      <td>0.000000</td>\n",
       "      <td>NaN</td>\n",
       "    </tr>\n",
       "    <tr>\n",
       "      <th>520024413</th>\n",
       "      <td>2</td>\n",
       "      <td>0</td>\n",
       "      <td>43</td>\n",
       "      <td>0.046512</td>\n",
       "      <td>0.000000</td>\n",
       "      <td>0.000000</td>\n",
       "    </tr>\n",
       "    <tr>\n",
       "      <th>519904614</th>\n",
       "      <td>0</td>\n",
       "      <td>0</td>\n",
       "      <td>2</td>\n",
       "      <td>0.000000</td>\n",
       "      <td>0.000000</td>\n",
       "      <td>NaN</td>\n",
       "    </tr>\n",
       "    <tr>\n",
       "      <th>545513460</th>\n",
       "      <td>0</td>\n",
       "      <td>0</td>\n",
       "      <td>7</td>\n",
       "      <td>0.000000</td>\n",
       "      <td>0.000000</td>\n",
       "      <td>NaN</td>\n",
       "    </tr>\n",
       "    <tr>\n",
       "      <th>559394402</th>\n",
       "      <td>0</td>\n",
       "      <td>0</td>\n",
       "      <td>1</td>\n",
       "      <td>0.000000</td>\n",
       "      <td>0.000000</td>\n",
       "      <td>NaN</td>\n",
       "    </tr>\n",
       "    <tr>\n",
       "      <th>515020670</th>\n",
       "      <td>0</td>\n",
       "      <td>0</td>\n",
       "      <td>1</td>\n",
       "      <td>0.000000</td>\n",
       "      <td>0.000000</td>\n",
       "      <td>NaN</td>\n",
       "    </tr>\n",
       "    <tr>\n",
       "      <th>517936073</th>\n",
       "      <td>0</td>\n",
       "      <td>0</td>\n",
       "      <td>21</td>\n",
       "      <td>0.000000</td>\n",
       "      <td>0.000000</td>\n",
       "      <td>NaN</td>\n",
       "    </tr>\n",
       "    <tr>\n",
       "      <th>525325358</th>\n",
       "      <td>0</td>\n",
       "      <td>0</td>\n",
       "      <td>14</td>\n",
       "      <td>0.000000</td>\n",
       "      <td>0.000000</td>\n",
       "      <td>NaN</td>\n",
       "    </tr>\n",
       "    <tr>\n",
       "      <th>512799558</th>\n",
       "      <td>0</td>\n",
       "      <td>0</td>\n",
       "      <td>14</td>\n",
       "      <td>0.000000</td>\n",
       "      <td>0.000000</td>\n",
       "      <td>NaN</td>\n",
       "    </tr>\n",
       "    <tr>\n",
       "      <th>531157463</th>\n",
       "      <td>0</td>\n",
       "      <td>0</td>\n",
       "      <td>1</td>\n",
       "      <td>0.000000</td>\n",
       "      <td>0.000000</td>\n",
       "      <td>NaN</td>\n",
       "    </tr>\n",
       "  </tbody>\n",
       "</table>\n",
       "</div>"
      ],
      "text/plain": [
       "event_type  cart  purchase  view  cart / view  purchase / view  \\\n",
       "user_id                                                          \n",
       "528279270      0         0     5     0.000000         0.000000   \n",
       "566156164      0         0     2     0.000000         0.000000   \n",
       "569900623      0         0     1     0.000000         0.000000   \n",
       "545830244      9         2    52     0.173077         0.038462   \n",
       "576072323      0         0     1     0.000000         0.000000   \n",
       "538245864      0         0    48     0.000000         0.000000   \n",
       "578253312      0         0     4     0.000000         0.000000   \n",
       "537623432      0         0     3     0.000000         0.000000   \n",
       "567372460      0         0     8     0.000000         0.000000   \n",
       "522370030      0         0     1     0.000000         0.000000   \n",
       "556213892      2         0    15     0.133333         0.000000   \n",
       "573298144      1         1     5     0.200000         0.200000   \n",
       "515705247      0         0    48     0.000000         0.000000   \n",
       "552272202      0         0     5     0.000000         0.000000   \n",
       "574521066      0         0     4     0.000000         0.000000   \n",
       "566875559      0         0     2     0.000000         0.000000   \n",
       "566356364      0         0    30     0.000000         0.000000   \n",
       "530459365      0         0     3     0.000000         0.000000   \n",
       "563180625      0         0     1     0.000000         0.000000   \n",
       "537235137     13         1    26     0.500000         0.038462   \n",
       "513434204      0         0     1     0.000000         0.000000   \n",
       "520024413      2         0    43     0.046512         0.000000   \n",
       "519904614      0         0     2     0.000000         0.000000   \n",
       "545513460      0         0     7     0.000000         0.000000   \n",
       "559394402      0         0     1     0.000000         0.000000   \n",
       "515020670      0         0     1     0.000000         0.000000   \n",
       "517936073      0         0    21     0.000000         0.000000   \n",
       "525325358      0         0    14     0.000000         0.000000   \n",
       "512799558      0         0    14     0.000000         0.000000   \n",
       "531157463      0         0     1     0.000000         0.000000   \n",
       "\n",
       "event_type  purchase / cart  \n",
       "user_id                      \n",
       "528279270               NaN  \n",
       "566156164               NaN  \n",
       "569900623               NaN  \n",
       "545830244          0.222222  \n",
       "576072323               NaN  \n",
       "538245864               NaN  \n",
       "578253312               NaN  \n",
       "537623432               NaN  \n",
       "567372460               NaN  \n",
       "522370030               NaN  \n",
       "556213892          0.000000  \n",
       "573298144          1.000000  \n",
       "515705247               NaN  \n",
       "552272202               NaN  \n",
       "574521066               NaN  \n",
       "566875559               NaN  \n",
       "566356364               NaN  \n",
       "530459365               NaN  \n",
       "563180625               NaN  \n",
       "537235137          0.076923  \n",
       "513434204               NaN  \n",
       "520024413          0.000000  \n",
       "519904614               NaN  \n",
       "545513460               NaN  \n",
       "559394402               NaN  \n",
       "515020670               NaN  \n",
       "517936073               NaN  \n",
       "525325358               NaN  \n",
       "512799558               NaN  \n",
       "531157463               NaN  "
      ]
     },
     "execution_count": 87,
     "metadata": {},
     "output_type": "execute_result"
    }
   ],
   "source": [
    "et.sample(30)"
   ]
  },
  {
   "cell_type": "code",
   "execution_count": null,
   "id": "3c143dd2",
   "metadata": {},
   "outputs": [],
   "source": []
  },
  {
   "cell_type": "markdown",
   "id": "8e9fabb7",
   "metadata": {},
   "source": [
    "## 유저 수 추이"
   ]
  },
  {
   "cell_type": "code",
   "execution_count": 89,
   "id": "4954a3ba",
   "metadata": {
    "ExecuteTime": {
     "end_time": "2023-03-10T12:36:55.559366Z",
     "start_time": "2023-03-10T12:36:54.679323Z"
    }
   },
   "outputs": [],
   "source": [
    "cohort_data = df.sample(1000).groupby(['user_id']).agg({'event_time': 'min'})\n",
    "cohort_data.columns = ['cohort_start']\n",
    "cohort_data.reset_index(inplace=True)\n",
    "cohort_data['cohort_start'] = pd.to_datetime(cohort_data['cohort_start'])\n"
   ]
  },
  {
   "cell_type": "code",
   "execution_count": 91,
   "id": "50547d83",
   "metadata": {
    "ExecuteTime": {
     "end_time": "2023-03-10T12:38:00.602623Z",
     "start_time": "2023-03-10T12:37:56.007753Z"
    },
    "scrolled": true
   },
   "outputs": [
    {
     "ename": "KeyError",
     "evalue": "'event_date'",
     "output_type": "error",
     "traceback": [
      "\u001b[1;31m---------------------------------------------------------------------------\u001b[0m",
      "\u001b[1;31mKeyError\u001b[0m                                  Traceback (most recent call last)",
      "\u001b[1;32m~\\AppData\\Local\\Temp\\ipykernel_4480\\1946864639.py\u001b[0m in \u001b[0;36m<module>\u001b[1;34m\u001b[0m\n\u001b[0;32m      1\u001b[0m \u001b[0mdf\u001b[0m\u001b[1;33m.\u001b[0m\u001b[0msample\u001b[0m\u001b[1;33m(\u001b[0m\u001b[1;36m1000\u001b[0m\u001b[1;33m)\u001b[0m\u001b[1;33m[\u001b[0m\u001b[1;34m'event_time'\u001b[0m\u001b[1;33m]\u001b[0m \u001b[1;33m=\u001b[0m \u001b[0mpd\u001b[0m\u001b[1;33m.\u001b[0m\u001b[0mto_datetime\u001b[0m\u001b[1;33m(\u001b[0m\u001b[0mdf\u001b[0m\u001b[1;33m.\u001b[0m\u001b[0msample\u001b[0m\u001b[1;33m(\u001b[0m\u001b[1;36m1000\u001b[0m\u001b[1;33m)\u001b[0m\u001b[1;33m[\u001b[0m\u001b[1;34m'event_time'\u001b[0m\u001b[1;33m]\u001b[0m\u001b[1;33m)\u001b[0m\u001b[1;33m\u001b[0m\u001b[1;33m\u001b[0m\u001b[0m\n\u001b[0;32m      2\u001b[0m \u001b[0mdf\u001b[0m\u001b[1;33m.\u001b[0m\u001b[0msample\u001b[0m\u001b[1;33m(\u001b[0m\u001b[1;36m1000\u001b[0m\u001b[1;33m)\u001b[0m\u001b[1;33m[\u001b[0m\u001b[1;34m'event_date'\u001b[0m\u001b[1;33m]\u001b[0m \u001b[1;33m=\u001b[0m \u001b[0mdf\u001b[0m\u001b[1;33m.\u001b[0m\u001b[0msample\u001b[0m\u001b[1;33m(\u001b[0m\u001b[1;36m1000\u001b[0m\u001b[1;33m)\u001b[0m\u001b[1;33m[\u001b[0m\u001b[1;34m'event_time'\u001b[0m\u001b[1;33m]\u001b[0m\u001b[1;33m.\u001b[0m\u001b[0mdt\u001b[0m\u001b[1;33m.\u001b[0m\u001b[0mdate\u001b[0m\u001b[1;33m\u001b[0m\u001b[1;33m\u001b[0m\u001b[0m\n\u001b[1;32m----> 3\u001b[1;33m \u001b[0muser_data\u001b[0m \u001b[1;33m=\u001b[0m \u001b[0mdf\u001b[0m\u001b[1;33m.\u001b[0m\u001b[0msample\u001b[0m\u001b[1;33m(\u001b[0m\u001b[1;36m1000\u001b[0m\u001b[1;33m)\u001b[0m\u001b[1;33m.\u001b[0m\u001b[0mgroupby\u001b[0m\u001b[1;33m(\u001b[0m\u001b[1;33m[\u001b[0m\u001b[1;34m'user_id'\u001b[0m\u001b[1;33m,\u001b[0m \u001b[1;34m'event_date'\u001b[0m\u001b[1;33m]\u001b[0m\u001b[1;33m)\u001b[0m\u001b[1;33m.\u001b[0m\u001b[0magg\u001b[0m\u001b[1;33m(\u001b[0m\u001b[1;33m{\u001b[0m\u001b[1;34m'event_time'\u001b[0m\u001b[1;33m:\u001b[0m \u001b[1;34m'count'\u001b[0m\u001b[1;33m}\u001b[0m\u001b[1;33m)\u001b[0m\u001b[1;33m\u001b[0m\u001b[1;33m\u001b[0m\u001b[0m\n\u001b[0m\u001b[0;32m      4\u001b[0m \u001b[0muser_data\u001b[0m\u001b[1;33m.\u001b[0m\u001b[0mreset_index\u001b[0m\u001b[1;33m(\u001b[0m\u001b[0minplace\u001b[0m\u001b[1;33m=\u001b[0m\u001b[1;32mTrue\u001b[0m\u001b[1;33m)\u001b[0m\u001b[1;33m\u001b[0m\u001b[1;33m\u001b[0m\u001b[0m\n\u001b[0;32m      5\u001b[0m \u001b[0mdaily_active_users\u001b[0m \u001b[1;33m=\u001b[0m \u001b[0muser_data\u001b[0m\u001b[1;33m.\u001b[0m\u001b[0mgroupby\u001b[0m\u001b[1;33m(\u001b[0m\u001b[1;33m[\u001b[0m\u001b[1;34m'event_date'\u001b[0m\u001b[1;33m]\u001b[0m\u001b[1;33m)\u001b[0m\u001b[1;33m.\u001b[0m\u001b[0magg\u001b[0m\u001b[1;33m(\u001b[0m\u001b[1;33m{\u001b[0m\u001b[1;34m'user_id'\u001b[0m\u001b[1;33m:\u001b[0m \u001b[0mpd\u001b[0m\u001b[1;33m.\u001b[0m\u001b[0mSeries\u001b[0m\u001b[1;33m.\u001b[0m\u001b[0mnunique\u001b[0m\u001b[1;33m}\u001b[0m\u001b[1;33m)\u001b[0m\u001b[1;33m\u001b[0m\u001b[1;33m\u001b[0m\u001b[0m\n",
      "\u001b[1;32m~\\anaconda3\\lib\\site-packages\\pandas\\core\\frame.py\u001b[0m in \u001b[0;36mgroupby\u001b[1;34m(self, by, axis, level, as_index, sort, group_keys, squeeze, observed, dropna)\u001b[0m\n\u001b[0;32m   7719\u001b[0m         \u001b[1;31m# error: Argument \"squeeze\" to \"DataFrameGroupBy\" has incompatible type\u001b[0m\u001b[1;33m\u001b[0m\u001b[1;33m\u001b[0m\u001b[0m\n\u001b[0;32m   7720\u001b[0m         \u001b[1;31m# \"Union[bool, NoDefault]\"; expected \"bool\"\u001b[0m\u001b[1;33m\u001b[0m\u001b[1;33m\u001b[0m\u001b[0m\n\u001b[1;32m-> 7721\u001b[1;33m         return DataFrameGroupBy(\n\u001b[0m\u001b[0;32m   7722\u001b[0m             \u001b[0mobj\u001b[0m\u001b[1;33m=\u001b[0m\u001b[0mself\u001b[0m\u001b[1;33m,\u001b[0m\u001b[1;33m\u001b[0m\u001b[1;33m\u001b[0m\u001b[0m\n\u001b[0;32m   7723\u001b[0m             \u001b[0mkeys\u001b[0m\u001b[1;33m=\u001b[0m\u001b[0mby\u001b[0m\u001b[1;33m,\u001b[0m\u001b[1;33m\u001b[0m\u001b[1;33m\u001b[0m\u001b[0m\n",
      "\u001b[1;32m~\\anaconda3\\lib\\site-packages\\pandas\\core\\groupby\\groupby.py\u001b[0m in \u001b[0;36m__init__\u001b[1;34m(self, obj, keys, axis, level, grouper, exclusions, selection, as_index, sort, group_keys, squeeze, observed, mutated, dropna)\u001b[0m\n\u001b[0;32m    880\u001b[0m             \u001b[1;32mfrom\u001b[0m \u001b[0mpandas\u001b[0m\u001b[1;33m.\u001b[0m\u001b[0mcore\u001b[0m\u001b[1;33m.\u001b[0m\u001b[0mgroupby\u001b[0m\u001b[1;33m.\u001b[0m\u001b[0mgrouper\u001b[0m \u001b[1;32mimport\u001b[0m \u001b[0mget_grouper\u001b[0m\u001b[1;33m\u001b[0m\u001b[1;33m\u001b[0m\u001b[0m\n\u001b[0;32m    881\u001b[0m \u001b[1;33m\u001b[0m\u001b[0m\n\u001b[1;32m--> 882\u001b[1;33m             grouper, exclusions, obj = get_grouper(\n\u001b[0m\u001b[0;32m    883\u001b[0m                 \u001b[0mobj\u001b[0m\u001b[1;33m,\u001b[0m\u001b[1;33m\u001b[0m\u001b[1;33m\u001b[0m\u001b[0m\n\u001b[0;32m    884\u001b[0m                 \u001b[0mkeys\u001b[0m\u001b[1;33m,\u001b[0m\u001b[1;33m\u001b[0m\u001b[1;33m\u001b[0m\u001b[0m\n",
      "\u001b[1;32m~\\anaconda3\\lib\\site-packages\\pandas\\core\\groupby\\grouper.py\u001b[0m in \u001b[0;36mget_grouper\u001b[1;34m(obj, key, axis, level, sort, observed, mutated, validate, dropna)\u001b[0m\n\u001b[0;32m    880\u001b[0m                 \u001b[0min_axis\u001b[0m\u001b[1;33m,\u001b[0m \u001b[0mlevel\u001b[0m\u001b[1;33m,\u001b[0m \u001b[0mgpr\u001b[0m \u001b[1;33m=\u001b[0m \u001b[1;32mFalse\u001b[0m\u001b[1;33m,\u001b[0m \u001b[0mgpr\u001b[0m\u001b[1;33m,\u001b[0m \u001b[1;32mNone\u001b[0m\u001b[1;33m\u001b[0m\u001b[1;33m\u001b[0m\u001b[0m\n\u001b[0;32m    881\u001b[0m             \u001b[1;32melse\u001b[0m\u001b[1;33m:\u001b[0m\u001b[1;33m\u001b[0m\u001b[1;33m\u001b[0m\u001b[0m\n\u001b[1;32m--> 882\u001b[1;33m                 \u001b[1;32mraise\u001b[0m \u001b[0mKeyError\u001b[0m\u001b[1;33m(\u001b[0m\u001b[0mgpr\u001b[0m\u001b[1;33m)\u001b[0m\u001b[1;33m\u001b[0m\u001b[1;33m\u001b[0m\u001b[0m\n\u001b[0m\u001b[0;32m    883\u001b[0m         \u001b[1;32melif\u001b[0m \u001b[0misinstance\u001b[0m\u001b[1;33m(\u001b[0m\u001b[0mgpr\u001b[0m\u001b[1;33m,\u001b[0m \u001b[0mGrouper\u001b[0m\u001b[1;33m)\u001b[0m \u001b[1;32mand\u001b[0m \u001b[0mgpr\u001b[0m\u001b[1;33m.\u001b[0m\u001b[0mkey\u001b[0m \u001b[1;32mis\u001b[0m \u001b[1;32mnot\u001b[0m \u001b[1;32mNone\u001b[0m\u001b[1;33m:\u001b[0m\u001b[1;33m\u001b[0m\u001b[1;33m\u001b[0m\u001b[0m\n\u001b[0;32m    884\u001b[0m             \u001b[1;31m# Add key to exclusions\u001b[0m\u001b[1;33m\u001b[0m\u001b[1;33m\u001b[0m\u001b[0m\n",
      "\u001b[1;31mKeyError\u001b[0m: 'event_date'"
     ]
    }
   ],
   "source": [
    "df.sample(1000)['event_time'] = pd.to_datetime(df.sample(1000)['event_time'])\n",
    "df.sample(1000)['event_date'] = df.sample(1000)['event_time'].dt.date\n",
    "user_data = df.sample(1000).groupby(['user_id', 'event_date']).agg({'event_time': 'count'})\n",
    "user_data.reset_index(inplace=True)\n",
    "daily_active_users = user_data.groupby(['event_date']).agg({'user_id': pd.Series.nunique})\n",
    "daily_active_users.columns = ['active_users']\n",
    "daily_active_users.reset_index(inplace=True)"
   ]
  },
  {
   "cell_type": "code",
   "execution_count": null,
   "id": "92457aa9",
   "metadata": {},
   "outputs": [],
   "source": []
  },
  {
   "cell_type": "code",
   "execution_count": 93,
   "id": "831b4ac5",
   "metadata": {
    "ExecuteTime": {
     "end_time": "2023-03-10T12:52:10.872957Z",
     "start_time": "2023-03-10T12:52:10.850300Z"
    }
   },
   "outputs": [
    {
     "data": {
      "text/html": [
       "<div>\n",
       "<style scoped>\n",
       "    .dataframe tbody tr th:only-of-type {\n",
       "        vertical-align: middle;\n",
       "    }\n",
       "\n",
       "    .dataframe tbody tr th {\n",
       "        vertical-align: top;\n",
       "    }\n",
       "\n",
       "    .dataframe thead th {\n",
       "        text-align: right;\n",
       "    }\n",
       "</style>\n",
       "<table border=\"1\" class=\"dataframe\">\n",
       "  <thead>\n",
       "    <tr style=\"text-align: right;\">\n",
       "      <th>event_type</th>\n",
       "      <th>cart</th>\n",
       "      <th>purchase</th>\n",
       "      <th>view</th>\n",
       "      <th>cart / view</th>\n",
       "      <th>purchase / view</th>\n",
       "      <th>purchase / cart</th>\n",
       "    </tr>\n",
       "    <tr>\n",
       "      <th>user_id</th>\n",
       "      <th></th>\n",
       "      <th></th>\n",
       "      <th></th>\n",
       "      <th></th>\n",
       "      <th></th>\n",
       "      <th></th>\n",
       "    </tr>\n",
       "  </thead>\n",
       "  <tbody>\n",
       "    <tr>\n",
       "      <th>369801696</th>\n",
       "      <td>4</td>\n",
       "      <td>3</td>\n",
       "      <td>4</td>\n",
       "      <td>1.000000</td>\n",
       "      <td>0.750000</td>\n",
       "      <td>0.750000</td>\n",
       "    </tr>\n",
       "    <tr>\n",
       "      <th>403013066</th>\n",
       "      <td>3</td>\n",
       "      <td>2</td>\n",
       "      <td>8</td>\n",
       "      <td>0.375000</td>\n",
       "      <td>0.250000</td>\n",
       "      <td>0.666667</td>\n",
       "    </tr>\n",
       "    <tr>\n",
       "      <th>403810661</th>\n",
       "      <td>4</td>\n",
       "      <td>2</td>\n",
       "      <td>9</td>\n",
       "      <td>0.444444</td>\n",
       "      <td>0.222222</td>\n",
       "      <td>0.500000</td>\n",
       "    </tr>\n",
       "    <tr>\n",
       "      <th>415873351</th>\n",
       "      <td>5</td>\n",
       "      <td>2</td>\n",
       "      <td>6</td>\n",
       "      <td>0.833333</td>\n",
       "      <td>0.333333</td>\n",
       "      <td>0.400000</td>\n",
       "    </tr>\n",
       "    <tr>\n",
       "      <th>420986446</th>\n",
       "      <td>2</td>\n",
       "      <td>2</td>\n",
       "      <td>9</td>\n",
       "      <td>0.222222</td>\n",
       "      <td>0.222222</td>\n",
       "      <td>1.000000</td>\n",
       "    </tr>\n",
       "    <tr>\n",
       "      <th>...</th>\n",
       "      <td>...</td>\n",
       "      <td>...</td>\n",
       "      <td>...</td>\n",
       "      <td>...</td>\n",
       "      <td>...</td>\n",
       "      <td>...</td>\n",
       "    </tr>\n",
       "    <tr>\n",
       "      <th>579925652</th>\n",
       "      <td>4</td>\n",
       "      <td>2</td>\n",
       "      <td>5</td>\n",
       "      <td>0.800000</td>\n",
       "      <td>0.400000</td>\n",
       "      <td>0.500000</td>\n",
       "    </tr>\n",
       "    <tr>\n",
       "      <th>579930581</th>\n",
       "      <td>3</td>\n",
       "      <td>2</td>\n",
       "      <td>3</td>\n",
       "      <td>1.000000</td>\n",
       "      <td>0.666667</td>\n",
       "      <td>0.666667</td>\n",
       "    </tr>\n",
       "    <tr>\n",
       "      <th>579938955</th>\n",
       "      <td>5</td>\n",
       "      <td>4</td>\n",
       "      <td>5</td>\n",
       "      <td>1.000000</td>\n",
       "      <td>0.800000</td>\n",
       "      <td>0.800000</td>\n",
       "    </tr>\n",
       "    <tr>\n",
       "      <th>579940508</th>\n",
       "      <td>1</td>\n",
       "      <td>2</td>\n",
       "      <td>3</td>\n",
       "      <td>0.333333</td>\n",
       "      <td>0.666667</td>\n",
       "      <td>2.000000</td>\n",
       "    </tr>\n",
       "    <tr>\n",
       "      <th>579944655</th>\n",
       "      <td>3</td>\n",
       "      <td>2</td>\n",
       "      <td>1</td>\n",
       "      <td>3.000000</td>\n",
       "      <td>2.000000</td>\n",
       "      <td>0.666667</td>\n",
       "    </tr>\n",
       "  </tbody>\n",
       "</table>\n",
       "<p>121838 rows × 6 columns</p>\n",
       "</div>"
      ],
      "text/plain": [
       "event_type  cart  purchase  view  cart / view  purchase / view  \\\n",
       "user_id                                                          \n",
       "369801696      4         3     4     1.000000         0.750000   \n",
       "403013066      3         2     8     0.375000         0.250000   \n",
       "403810661      4         2     9     0.444444         0.222222   \n",
       "415873351      5         2     6     0.833333         0.333333   \n",
       "420986446      2         2     9     0.222222         0.222222   \n",
       "...          ...       ...   ...          ...              ...   \n",
       "579925652      4         2     5     0.800000         0.400000   \n",
       "579930581      3         2     3     1.000000         0.666667   \n",
       "579938955      5         4     5     1.000000         0.800000   \n",
       "579940508      1         2     3     0.333333         0.666667   \n",
       "579944655      3         2     1     3.000000         2.000000   \n",
       "\n",
       "event_type  purchase / cart  \n",
       "user_id                      \n",
       "369801696          0.750000  \n",
       "403013066          0.666667  \n",
       "403810661          0.500000  \n",
       "415873351          0.400000  \n",
       "420986446          1.000000  \n",
       "...                     ...  \n",
       "579925652          0.500000  \n",
       "579930581          0.666667  \n",
       "579938955          0.800000  \n",
       "579940508          2.000000  \n",
       "579944655          0.666667  \n",
       "\n",
       "[121838 rows x 6 columns]"
      ]
     },
     "execution_count": 93,
     "metadata": {},
     "output_type": "execute_result"
    }
   ],
   "source": [
    "# 두 번 이상 구매한 사람\n",
    "et[et.purchase >= 2] # 121838명"
   ]
  },
  {
   "cell_type": "code",
   "execution_count": null,
   "id": "58c8bbb6",
   "metadata": {},
   "outputs": [],
   "source": []
  },
  {
   "cell_type": "code",
   "execution_count": null,
   "id": "048c788e",
   "metadata": {},
   "outputs": [],
   "source": []
  },
  {
   "cell_type": "code",
   "execution_count": null,
   "id": "b6a10feb",
   "metadata": {},
   "outputs": [],
   "source": []
  },
  {
   "cell_type": "code",
   "execution_count": 7,
   "id": "cbe92c77",
   "metadata": {
    "ExecuteTime": {
     "end_time": "2023-03-09T07:07:25.810235Z",
     "start_time": "2023-03-09T07:07:24.869251Z"
    }
   },
   "outputs": [
    {
     "data": {
      "text/plain": [
       "512365995    9125\n",
       "512505687    5180\n",
       "512388419    5157\n",
       "513021392    4361\n",
       "568804062    3528\n",
       "             ... \n",
       "556578080       1\n",
       "541190141       1\n",
       "572546553       1\n",
       "521718155       1\n",
       "579969851       1\n",
       "Name: user_id, Length: 2438160, dtype: int64"
      ]
     },
     "execution_count": 7,
     "metadata": {},
     "output_type": "execute_result"
    }
   ],
   "source": [
    "df['user_id'].value_counts()"
   ]
  },
  {
   "cell_type": "code",
   "execution_count": 16,
   "id": "baf3acb8",
   "metadata": {
    "ExecuteTime": {
     "end_time": "2023-03-09T07:13:31.694634Z",
     "start_time": "2023-03-09T07:13:31.656659Z"
    }
   },
   "outputs": [
    {
     "data": {
      "text/plain": [
       "event_type\n",
       "view    9109\n",
       "cart      16\n",
       "dtype: int64"
      ]
     },
     "execution_count": 16,
     "metadata": {},
     "output_type": "execute_result"
    }
   ],
   "source": [
    "df[df['user_id'] == 512365995].value_counts('event_type')"
   ]
  },
  {
   "cell_type": "code",
   "execution_count": 19,
   "id": "d8b8baf9",
   "metadata": {
    "ExecuteTime": {
     "end_time": "2023-03-09T08:10:12.877674Z",
     "start_time": "2023-03-09T08:09:49.625369Z"
    }
   },
   "outputs": [
    {
     "ename": "KeyboardInterrupt",
     "evalue": "",
     "output_type": "error",
     "traceback": [
      "\u001b[1;31m---------------------------------------------------------------------------\u001b[0m",
      "\u001b[1;31mKeyboardInterrupt\u001b[0m                         Traceback (most recent call last)",
      "\u001b[1;32m~\\AppData\\Local\\Temp\\ipykernel_4480\\4220074148.py\u001b[0m in \u001b[0;36m<module>\u001b[1;34m\u001b[0m\n\u001b[0;32m      3\u001b[0m \u001b[0ma\u001b[0m \u001b[1;33m=\u001b[0m \u001b[1;33m[\u001b[0m\u001b[1;33m]\u001b[0m\u001b[1;33m\u001b[0m\u001b[1;33m\u001b[0m\u001b[0m\n\u001b[0;32m      4\u001b[0m \u001b[1;32mfor\u001b[0m \u001b[0mi\u001b[0m \u001b[1;32min\u001b[0m \u001b[0mdf\u001b[0m\u001b[1;33m[\u001b[0m\u001b[1;34m'user_id'\u001b[0m\u001b[1;33m]\u001b[0m\u001b[1;33m.\u001b[0m\u001b[0munique\u001b[0m\u001b[1;33m(\u001b[0m\u001b[1;33m)\u001b[0m\u001b[1;33m:\u001b[0m\u001b[1;33m\u001b[0m\u001b[1;33m\u001b[0m\u001b[0m\n\u001b[1;32m----> 5\u001b[1;33m     \u001b[0mb\u001b[0m \u001b[1;33m=\u001b[0m \u001b[0mdf\u001b[0m\u001b[1;33m[\u001b[0m\u001b[0mdf\u001b[0m\u001b[1;33m[\u001b[0m\u001b[1;34m'user_id'\u001b[0m\u001b[1;33m]\u001b[0m \u001b[1;33m==\u001b[0m \u001b[0mi\u001b[0m\u001b[1;33m]\u001b[0m\u001b[1;33m.\u001b[0m\u001b[0mvalue_counts\u001b[0m\u001b[1;33m(\u001b[0m\u001b[1;34m'event_type'\u001b[0m\u001b[1;33m)\u001b[0m\u001b[1;33m\u001b[0m\u001b[1;33m\u001b[0m\u001b[0m\n\u001b[0m\u001b[0;32m      6\u001b[0m     \u001b[0ma\u001b[0m\u001b[1;33m.\u001b[0m\u001b[0mappend\u001b[0m\u001b[1;33m(\u001b[0m\u001b[0mb\u001b[0m\u001b[1;33m)\u001b[0m\u001b[1;33m\u001b[0m\u001b[1;33m\u001b[0m\u001b[0m\n\u001b[0;32m      7\u001b[0m \u001b[1;33m\u001b[0m\u001b[0m\n",
      "\u001b[1;32m~\\anaconda3\\lib\\site-packages\\pandas\\core\\frame.py\u001b[0m in \u001b[0;36m__getitem__\u001b[1;34m(self, key)\u001b[0m\n\u001b[0;32m   3494\u001b[0m         \u001b[1;31m# Do we have a (boolean) 1d indexer?\u001b[0m\u001b[1;33m\u001b[0m\u001b[1;33m\u001b[0m\u001b[0m\n\u001b[0;32m   3495\u001b[0m         \u001b[1;32mif\u001b[0m \u001b[0mcom\u001b[0m\u001b[1;33m.\u001b[0m\u001b[0mis_bool_indexer\u001b[0m\u001b[1;33m(\u001b[0m\u001b[0mkey\u001b[0m\u001b[1;33m)\u001b[0m\u001b[1;33m:\u001b[0m\u001b[1;33m\u001b[0m\u001b[1;33m\u001b[0m\u001b[0m\n\u001b[1;32m-> 3496\u001b[1;33m             \u001b[1;32mreturn\u001b[0m \u001b[0mself\u001b[0m\u001b[1;33m.\u001b[0m\u001b[0m_getitem_bool_array\u001b[0m\u001b[1;33m(\u001b[0m\u001b[0mkey\u001b[0m\u001b[1;33m)\u001b[0m\u001b[1;33m\u001b[0m\u001b[1;33m\u001b[0m\u001b[0m\n\u001b[0m\u001b[0;32m   3497\u001b[0m \u001b[1;33m\u001b[0m\u001b[0m\n\u001b[0;32m   3498\u001b[0m         \u001b[1;31m# We are left with two options: a single key, and a collection of keys,\u001b[0m\u001b[1;33m\u001b[0m\u001b[1;33m\u001b[0m\u001b[0m\n",
      "\u001b[1;32m~\\anaconda3\\lib\\site-packages\\pandas\\core\\frame.py\u001b[0m in \u001b[0;36m_getitem_bool_array\u001b[1;34m(self, key)\u001b[0m\n\u001b[0;32m   3548\u001b[0m         \u001b[1;31m# be reindexed to match DataFrame rows\u001b[0m\u001b[1;33m\u001b[0m\u001b[1;33m\u001b[0m\u001b[0m\n\u001b[0;32m   3549\u001b[0m         \u001b[0mkey\u001b[0m \u001b[1;33m=\u001b[0m \u001b[0mcheck_bool_indexer\u001b[0m\u001b[1;33m(\u001b[0m\u001b[0mself\u001b[0m\u001b[1;33m.\u001b[0m\u001b[0mindex\u001b[0m\u001b[1;33m,\u001b[0m \u001b[0mkey\u001b[0m\u001b[1;33m)\u001b[0m\u001b[1;33m\u001b[0m\u001b[1;33m\u001b[0m\u001b[0m\n\u001b[1;32m-> 3550\u001b[1;33m         \u001b[0mindexer\u001b[0m \u001b[1;33m=\u001b[0m \u001b[0mkey\u001b[0m\u001b[1;33m.\u001b[0m\u001b[0mnonzero\u001b[0m\u001b[1;33m(\u001b[0m\u001b[1;33m)\u001b[0m\u001b[1;33m[\u001b[0m\u001b[1;36m0\u001b[0m\u001b[1;33m]\u001b[0m\u001b[1;33m\u001b[0m\u001b[1;33m\u001b[0m\u001b[0m\n\u001b[0m\u001b[0;32m   3551\u001b[0m         \u001b[1;32mreturn\u001b[0m \u001b[0mself\u001b[0m\u001b[1;33m.\u001b[0m\u001b[0m_take_with_is_copy\u001b[0m\u001b[1;33m(\u001b[0m\u001b[0mindexer\u001b[0m\u001b[1;33m,\u001b[0m \u001b[0maxis\u001b[0m\u001b[1;33m=\u001b[0m\u001b[1;36m0\u001b[0m\u001b[1;33m)\u001b[0m\u001b[1;33m\u001b[0m\u001b[1;33m\u001b[0m\u001b[0m\n\u001b[0;32m   3552\u001b[0m \u001b[1;33m\u001b[0m\u001b[0m\n",
      "\u001b[1;31mKeyboardInterrupt\u001b[0m: "
     ]
    }
   ],
   "source": [
    "# user_id별 event_type \n",
    "\n",
    "a = []\n",
    "for i in df['user_id'].unique():\n",
    "    b = df[df['user_id'] == i].value_counts('event_type')\n",
    "    a.append(b)\n",
    "    \n",
    "pd.concat(a)"
   ]
  },
  {
   "cell_type": "code",
   "execution_count": 31,
   "id": "bf1b1896",
   "metadata": {
    "ExecuteTime": {
     "end_time": "2023-03-09T08:22:57.507500Z",
     "start_time": "2023-03-09T08:22:56.661829Z"
    },
    "scrolled": true
   },
   "outputs": [
    {
     "data": {
      "text/html": [
       "<div>\n",
       "<style scoped>\n",
       "    .dataframe tbody tr th:only-of-type {\n",
       "        vertical-align: middle;\n",
       "    }\n",
       "\n",
       "    .dataframe tbody tr th {\n",
       "        vertical-align: top;\n",
       "    }\n",
       "\n",
       "    .dataframe thead th {\n",
       "        text-align: right;\n",
       "    }\n",
       "</style>\n",
       "<table border=\"1\" class=\"dataframe\">\n",
       "  <thead>\n",
       "    <tr style=\"text-align: right;\">\n",
       "      <th></th>\n",
       "      <th>event_time</th>\n",
       "      <th>event_type</th>\n",
       "      <th>product_id</th>\n",
       "      <th>brand</th>\n",
       "      <th>price</th>\n",
       "      <th>user_id</th>\n",
       "      <th>user_session</th>\n",
       "    </tr>\n",
       "  </thead>\n",
       "  <tbody>\n",
       "    <tr>\n",
       "      <th>42255023</th>\n",
       "      <td>2019-10-31 17:32:24+00:00</td>\n",
       "      <td>view</td>\n",
       "      <td>1004856</td>\n",
       "      <td>samsung</td>\n",
       "      <td>130.99</td>\n",
       "      <td>543792510</td>\n",
       "      <td>b9e3799f-49f7-4af7-bab2-0030336fe687</td>\n",
       "    </tr>\n",
       "    <tr>\n",
       "      <th>34979631</th>\n",
       "      <td>2019-11-16 08:56:13+00:00</td>\n",
       "      <td>view</td>\n",
       "      <td>1004858</td>\n",
       "      <td>samsung</td>\n",
       "      <td>128.42</td>\n",
       "      <td>539345285</td>\n",
       "      <td>4a22db05-f39c-44c7-87f2-ea9995d623d9</td>\n",
       "    </tr>\n",
       "    <tr>\n",
       "      <th>30696207</th>\n",
       "      <td>2019-10-23 02:57:58+00:00</td>\n",
       "      <td>view</td>\n",
       "      <td>1004665</td>\n",
       "      <td>samsung</td>\n",
       "      <td>851.88</td>\n",
       "      <td>554433287</td>\n",
       "      <td>285ec149-f96b-4746-a89b-8614872d1935</td>\n",
       "    </tr>\n",
       "    <tr>\n",
       "      <th>28842945</th>\n",
       "      <td>2019-10-21 15:59:08+00:00</td>\n",
       "      <td>view</td>\n",
       "      <td>1004142</td>\n",
       "      <td>xiaomi</td>\n",
       "      <td>205.67</td>\n",
       "      <td>513855516</td>\n",
       "      <td>5bcc46e3-d60b-46bd-9659-f3f307b3962f</td>\n",
       "    </tr>\n",
       "    <tr>\n",
       "      <th>23798573</th>\n",
       "      <td>2019-11-14 07:00:14+00:00</td>\n",
       "      <td>view</td>\n",
       "      <td>1002633</td>\n",
       "      <td>apple</td>\n",
       "      <td>378.39</td>\n",
       "      <td>512948107</td>\n",
       "      <td>aa4a25fb-9a89-438c-b160-0ff2846eb8c8</td>\n",
       "    </tr>\n",
       "  </tbody>\n",
       "</table>\n",
       "</div>"
      ],
      "text/plain": [
       "                        event_time event_type  product_id    brand   price  \\\n",
       "42255023 2019-10-31 17:32:24+00:00       view     1004856  samsung  130.99   \n",
       "34979631 2019-11-16 08:56:13+00:00       view     1004858  samsung  128.42   \n",
       "30696207 2019-10-23 02:57:58+00:00       view     1004665  samsung  851.88   \n",
       "28842945 2019-10-21 15:59:08+00:00       view     1004142   xiaomi  205.67   \n",
       "23798573 2019-11-14 07:00:14+00:00       view     1002633    apple  378.39   \n",
       "\n",
       "            user_id                          user_session  \n",
       "42255023  543792510  b9e3799f-49f7-4af7-bab2-0030336fe687  \n",
       "34979631  539345285  4a22db05-f39c-44c7-87f2-ea9995d623d9  \n",
       "30696207  554433287  285ec149-f96b-4746-a89b-8614872d1935  \n",
       "28842945  513855516  5bcc46e3-d60b-46bd-9659-f3f307b3962f  \n",
       "23798573  512948107  aa4a25fb-9a89-438c-b160-0ff2846eb8c8  "
      ]
     },
     "execution_count": 31,
     "metadata": {},
     "output_type": "execute_result"
    }
   ],
   "source": [
    "## 값이 너무 많아서 샘플을 뽑아 진행\n",
    "\n",
    "sample = df.sample(10000)\n",
    "sample.head()"
   ]
  },
  {
   "cell_type": "code",
   "execution_count": 26,
   "id": "b3d55ad6",
   "metadata": {
    "ExecuteTime": {
     "end_time": "2023-03-09T08:13:45.652197Z",
     "start_time": "2023-03-09T08:13:45.639160Z"
    }
   },
   "outputs": [
    {
     "data": {
      "text/plain": [
       "9884"
      ]
     },
     "execution_count": 26,
     "metadata": {},
     "output_type": "execute_result"
    }
   ],
   "source": [
    "sample['user_id'].nunique()"
   ]
  },
  {
   "cell_type": "code",
   "execution_count": 27,
   "id": "045cd7c7",
   "metadata": {
    "ExecuteTime": {
     "end_time": "2023-03-09T08:13:45.730061Z",
     "start_time": "2023-03-09T08:13:45.715112Z"
    }
   },
   "outputs": [
    {
     "data": {
      "text/plain": [
       "519125256    4\n",
       "512720178    3\n",
       "561174161    3\n",
       "512505687    3\n",
       "512388419    3\n",
       "            ..\n",
       "564123787    1\n",
       "534650957    1\n",
       "514312304    1\n",
       "559353327    1\n",
       "565658079    1\n",
       "Name: user_id, Length: 9884, dtype: int64"
      ]
     },
     "execution_count": 27,
     "metadata": {},
     "output_type": "execute_result"
    }
   ],
   "source": [
    "sample['user_id'].value_counts()"
   ]
  },
  {
   "cell_type": "code",
   "execution_count": 28,
   "id": "1d6da626",
   "metadata": {
    "ExecuteTime": {
     "end_time": "2023-03-09T08:16:04.231176Z",
     "start_time": "2023-03-09T08:13:45.933809Z"
    }
   },
   "outputs": [
    {
     "data": {
      "text/plain": [
       "event_type\n",
       "view        398\n",
       "view         72\n",
       "view          5\n",
       "cart          1\n",
       "purchase      1\n",
       "           ... \n",
       "view         18\n",
       "view         23\n",
       "view         58\n",
       "cart         10\n",
       "purchase      3\n",
       "Length: 18218, dtype: int64"
      ]
     },
     "execution_count": 28,
     "metadata": {},
     "output_type": "execute_result"
    }
   ],
   "source": [
    "# user_id별 event_type \n",
    "\n",
    "a = []\n",
    "for i in sample['user_id'].unique():\n",
    "    b = df[df['user_id'] == i].value_counts('event_type')\n",
    "    a.append(b)\n",
    "    \n",
    "pd.concat(a)"
   ]
  },
  {
   "cell_type": "code",
   "execution_count": null,
   "id": "d23694c8",
   "metadata": {},
   "outputs": [],
   "source": []
  },
  {
   "cell_type": "code",
   "execution_count": null,
   "id": "e2fbe8b3",
   "metadata": {},
   "outputs": [],
   "source": [
    "for i in sample"
   ]
  },
  {
   "cell_type": "code",
   "execution_count": null,
   "id": "9125ff45",
   "metadata": {},
   "outputs": [],
   "source": [
    "유저별 구매수/view 수"
   ]
  },
  {
   "cell_type": "code",
   "execution_count": 30,
   "id": "6906092e",
   "metadata": {
    "ExecuteTime": {
     "end_time": "2023-03-09T08:19:18.332928Z",
     "start_time": "2023-03-09T08:19:18.318433Z"
    }
   },
   "outputs": [
    {
     "data": {
      "text/html": [
       "<div>\n",
       "<style scoped>\n",
       "    .dataframe tbody tr th:only-of-type {\n",
       "        vertical-align: middle;\n",
       "    }\n",
       "\n",
       "    .dataframe tbody tr th {\n",
       "        vertical-align: top;\n",
       "    }\n",
       "\n",
       "    .dataframe thead th {\n",
       "        text-align: right;\n",
       "    }\n",
       "</style>\n",
       "<table border=\"1\" class=\"dataframe\">\n",
       "  <thead>\n",
       "    <tr style=\"text-align: right;\">\n",
       "      <th></th>\n",
       "      <th>user_id</th>\n",
       "      <th>variable</th>\n",
       "      <th>value</th>\n",
       "    </tr>\n",
       "  </thead>\n",
       "  <tbody>\n",
       "    <tr>\n",
       "      <th>4743</th>\n",
       "      <td>381856230</td>\n",
       "      <td>event_type</td>\n",
       "      <td>view</td>\n",
       "    </tr>\n",
       "    <tr>\n",
       "      <th>6018</th>\n",
       "      <td>413880650</td>\n",
       "      <td>event_type</td>\n",
       "      <td>view</td>\n",
       "    </tr>\n",
       "    <tr>\n",
       "      <th>5356</th>\n",
       "      <td>430099323</td>\n",
       "      <td>event_type</td>\n",
       "      <td>view</td>\n",
       "    </tr>\n",
       "    <tr>\n",
       "      <th>7919</th>\n",
       "      <td>431111976</td>\n",
       "      <td>event_type</td>\n",
       "      <td>view</td>\n",
       "    </tr>\n",
       "    <tr>\n",
       "      <th>7025</th>\n",
       "      <td>434358865</td>\n",
       "      <td>event_type</td>\n",
       "      <td>view</td>\n",
       "    </tr>\n",
       "    <tr>\n",
       "      <th>...</th>\n",
       "      <td>...</td>\n",
       "      <td>...</td>\n",
       "      <td>...</td>\n",
       "    </tr>\n",
       "    <tr>\n",
       "      <th>5841</th>\n",
       "      <td>579755022</td>\n",
       "      <td>event_type</td>\n",
       "      <td>view</td>\n",
       "    </tr>\n",
       "    <tr>\n",
       "      <th>2047</th>\n",
       "      <td>579763934</td>\n",
       "      <td>event_type</td>\n",
       "      <td>view</td>\n",
       "    </tr>\n",
       "    <tr>\n",
       "      <th>5253</th>\n",
       "      <td>579800315</td>\n",
       "      <td>event_type</td>\n",
       "      <td>cart</td>\n",
       "    </tr>\n",
       "    <tr>\n",
       "      <th>3528</th>\n",
       "      <td>579829784</td>\n",
       "      <td>event_type</td>\n",
       "      <td>view</td>\n",
       "    </tr>\n",
       "    <tr>\n",
       "      <th>9671</th>\n",
       "      <td>579846206</td>\n",
       "      <td>event_type</td>\n",
       "      <td>view</td>\n",
       "    </tr>\n",
       "  </tbody>\n",
       "</table>\n",
       "<p>10000 rows × 3 columns</p>\n",
       "</div>"
      ],
      "text/plain": [
       "        user_id    variable value\n",
       "4743  381856230  event_type  view\n",
       "6018  413880650  event_type  view\n",
       "5356  430099323  event_type  view\n",
       "7919  431111976  event_type  view\n",
       "7025  434358865  event_type  view\n",
       "...         ...         ...   ...\n",
       "5841  579755022  event_type  view\n",
       "2047  579763934  event_type  view\n",
       "5253  579800315  event_type  cart\n",
       "3528  579829784  event_type  view\n",
       "9671  579846206  event_type  view\n",
       "\n",
       "[10000 rows x 3 columns]"
      ]
     },
     "execution_count": 30,
     "metadata": {},
     "output_type": "execute_result"
    }
   ],
   "source": [
    "sample.melt(id_vars='user_id', value_vars='event_type').sort_values('user_id')"
   ]
  },
  {
   "cell_type": "code",
   "execution_count": null,
   "id": "59aa1ebc",
   "metadata": {},
   "outputs": [],
   "source": [
    "df.melt(id_vars='user_id', value_vars='event_type', )"
   ]
  },
  {
   "cell_type": "code",
   "execution_count": 33,
   "id": "3e7f04f8",
   "metadata": {
    "ExecuteTime": {
     "end_time": "2023-03-09T08:26:42.734535Z",
     "start_time": "2023-03-09T08:26:42.710888Z"
    }
   },
   "outputs": [
    {
     "data": {
      "text/html": [
       "<div>\n",
       "<style scoped>\n",
       "    .dataframe tbody tr th:only-of-type {\n",
       "        vertical-align: middle;\n",
       "    }\n",
       "\n",
       "    .dataframe tbody tr th {\n",
       "        vertical-align: top;\n",
       "    }\n",
       "\n",
       "    .dataframe thead th {\n",
       "        text-align: right;\n",
       "    }\n",
       "</style>\n",
       "<table border=\"1\" class=\"dataframe\">\n",
       "  <thead>\n",
       "    <tr style=\"text-align: right;\">\n",
       "      <th>event_type</th>\n",
       "      <th>cart</th>\n",
       "      <th>purchase</th>\n",
       "      <th>view</th>\n",
       "    </tr>\n",
       "    <tr>\n",
       "      <th>user_id</th>\n",
       "      <th></th>\n",
       "      <th></th>\n",
       "      <th></th>\n",
       "    </tr>\n",
       "  </thead>\n",
       "  <tbody>\n",
       "    <tr>\n",
       "      <th>396823484</th>\n",
       "      <td>NaN</td>\n",
       "      <td>NaN</td>\n",
       "      <td>1.0</td>\n",
       "    </tr>\n",
       "    <tr>\n",
       "      <th>413880650</th>\n",
       "      <td>NaN</td>\n",
       "      <td>NaN</td>\n",
       "      <td>1.0</td>\n",
       "    </tr>\n",
       "    <tr>\n",
       "      <th>424531791</th>\n",
       "      <td>NaN</td>\n",
       "      <td>NaN</td>\n",
       "      <td>1.0</td>\n",
       "    </tr>\n",
       "    <tr>\n",
       "      <th>453060292</th>\n",
       "      <td>NaN</td>\n",
       "      <td>NaN</td>\n",
       "      <td>1.0</td>\n",
       "    </tr>\n",
       "    <tr>\n",
       "      <th>457734190</th>\n",
       "      <td>NaN</td>\n",
       "      <td>NaN</td>\n",
       "      <td>1.0</td>\n",
       "    </tr>\n",
       "    <tr>\n",
       "      <th>...</th>\n",
       "      <td>...</td>\n",
       "      <td>...</td>\n",
       "      <td>...</td>\n",
       "    </tr>\n",
       "    <tr>\n",
       "      <th>579768250</th>\n",
       "      <td>NaN</td>\n",
       "      <td>NaN</td>\n",
       "      <td>1.0</td>\n",
       "    </tr>\n",
       "    <tr>\n",
       "      <th>579824947</th>\n",
       "      <td>1.0</td>\n",
       "      <td>NaN</td>\n",
       "      <td>NaN</td>\n",
       "    </tr>\n",
       "    <tr>\n",
       "      <th>579826242</th>\n",
       "      <td>NaN</td>\n",
       "      <td>NaN</td>\n",
       "      <td>1.0</td>\n",
       "    </tr>\n",
       "    <tr>\n",
       "      <th>579836676</th>\n",
       "      <td>NaN</td>\n",
       "      <td>NaN</td>\n",
       "      <td>1.0</td>\n",
       "    </tr>\n",
       "    <tr>\n",
       "      <th>579866843</th>\n",
       "      <td>NaN</td>\n",
       "      <td>NaN</td>\n",
       "      <td>1.0</td>\n",
       "    </tr>\n",
       "  </tbody>\n",
       "</table>\n",
       "<p>9873 rows × 3 columns</p>\n",
       "</div>"
      ],
      "text/plain": [
       "event_type  cart  purchase  view\n",
       "user_id                         \n",
       "396823484    NaN       NaN   1.0\n",
       "413880650    NaN       NaN   1.0\n",
       "424531791    NaN       NaN   1.0\n",
       "453060292    NaN       NaN   1.0\n",
       "457734190    NaN       NaN   1.0\n",
       "...          ...       ...   ...\n",
       "579768250    NaN       NaN   1.0\n",
       "579824947    1.0       NaN   NaN\n",
       "579826242    NaN       NaN   1.0\n",
       "579836676    NaN       NaN   1.0\n",
       "579866843    NaN       NaN   1.0\n",
       "\n",
       "[9873 rows x 3 columns]"
      ]
     },
     "execution_count": 33,
     "metadata": {},
     "output_type": "execute_result"
    }
   ],
   "source": [
    "sample.pivot_table(index='user_id',\n",
    "                   columns='event_type',\n",
    "                   values='event_time',\n",
    "                  aggfunc='count').sort_values('user_id')"
   ]
  },
  {
   "cell_type": "code",
   "execution_count": 10,
   "id": "b3e0034f",
   "metadata": {
    "ExecuteTime": {
     "end_time": "2023-03-09T07:09:37.904225Z",
     "start_time": "2023-03-09T07:09:35.738378Z"
    }
   },
   "outputs": [
    {
     "data": {
      "text/html": [
       "<div>\n",
       "<style scoped>\n",
       "    .dataframe tbody tr th:only-of-type {\n",
       "        vertical-align: middle;\n",
       "    }\n",
       "\n",
       "    .dataframe tbody tr th {\n",
       "        vertical-align: top;\n",
       "    }\n",
       "\n",
       "    .dataframe thead th {\n",
       "        text-align: right;\n",
       "    }\n",
       "</style>\n",
       "<table border=\"1\" class=\"dataframe\">\n",
       "  <thead>\n",
       "    <tr style=\"text-align: right;\">\n",
       "      <th></th>\n",
       "      <th>event_type</th>\n",
       "    </tr>\n",
       "    <tr>\n",
       "      <th>user_id</th>\n",
       "      <th></th>\n",
       "    </tr>\n",
       "  </thead>\n",
       "  <tbody>\n",
       "    <tr>\n",
       "      <th>31198833</th>\n",
       "      <td>18</td>\n",
       "    </tr>\n",
       "    <tr>\n",
       "      <th>41798457</th>\n",
       "      <td>1</td>\n",
       "    </tr>\n",
       "    <tr>\n",
       "      <th>88309646</th>\n",
       "      <td>1</td>\n",
       "    </tr>\n",
       "    <tr>\n",
       "      <th>94566147</th>\n",
       "      <td>22</td>\n",
       "    </tr>\n",
       "    <tr>\n",
       "      <th>94584874</th>\n",
       "      <td>1</td>\n",
       "    </tr>\n",
       "    <tr>\n",
       "      <th>...</th>\n",
       "      <td>...</td>\n",
       "    </tr>\n",
       "    <tr>\n",
       "      <th>579968863</th>\n",
       "      <td>1</td>\n",
       "    </tr>\n",
       "    <tr>\n",
       "      <th>579969045</th>\n",
       "      <td>11</td>\n",
       "    </tr>\n",
       "    <tr>\n",
       "      <th>579969525</th>\n",
       "      <td>1</td>\n",
       "    </tr>\n",
       "    <tr>\n",
       "      <th>579969570</th>\n",
       "      <td>3</td>\n",
       "    </tr>\n",
       "    <tr>\n",
       "      <th>579969851</th>\n",
       "      <td>1</td>\n",
       "    </tr>\n",
       "  </tbody>\n",
       "</table>\n",
       "<p>2438160 rows × 1 columns</p>\n",
       "</div>"
      ],
      "text/plain": [
       "           event_type\n",
       "user_id              \n",
       "31198833           18\n",
       "41798457            1\n",
       "88309646            1\n",
       "94566147           22\n",
       "94584874            1\n",
       "...               ...\n",
       "579968863           1\n",
       "579969045          11\n",
       "579969525           1\n",
       "579969570           3\n",
       "579969851           1\n",
       "\n",
       "[2438160 rows x 1 columns]"
      ]
     },
     "execution_count": 10,
     "metadata": {},
     "output_type": "execute_result"
    }
   ],
   "source": [
    "df.groupby('user_id').agg({'event_type':'count'})"
   ]
  },
  {
   "cell_type": "code",
   "execution_count": 36,
   "id": "cdc9f3dd",
   "metadata": {
    "ExecuteTime": {
     "end_time": "2023-03-09T08:27:33.976936Z",
     "start_time": "2023-03-09T08:27:28.431954Z"
    }
   },
   "outputs": [
    {
     "data": {
      "text/html": [
       "<div>\n",
       "<style scoped>\n",
       "    .dataframe tbody tr th:only-of-type {\n",
       "        vertical-align: middle;\n",
       "    }\n",
       "\n",
       "    .dataframe tbody tr th {\n",
       "        vertical-align: top;\n",
       "    }\n",
       "\n",
       "    .dataframe thead th {\n",
       "        text-align: right;\n",
       "    }\n",
       "</style>\n",
       "<table border=\"1\" class=\"dataframe\">\n",
       "  <thead>\n",
       "    <tr style=\"text-align: right;\">\n",
       "      <th>event_type</th>\n",
       "      <th>cart</th>\n",
       "      <th>purchase</th>\n",
       "      <th>view</th>\n",
       "    </tr>\n",
       "    <tr>\n",
       "      <th>user_id</th>\n",
       "      <th></th>\n",
       "      <th></th>\n",
       "      <th></th>\n",
       "    </tr>\n",
       "  </thead>\n",
       "  <tbody>\n",
       "    <tr>\n",
       "      <th>31198833</th>\n",
       "      <td>0</td>\n",
       "      <td>0</td>\n",
       "      <td>18</td>\n",
       "    </tr>\n",
       "    <tr>\n",
       "      <th>41798457</th>\n",
       "      <td>0</td>\n",
       "      <td>0</td>\n",
       "      <td>1</td>\n",
       "    </tr>\n",
       "    <tr>\n",
       "      <th>88309646</th>\n",
       "      <td>0</td>\n",
       "      <td>0</td>\n",
       "      <td>1</td>\n",
       "    </tr>\n",
       "    <tr>\n",
       "      <th>94566147</th>\n",
       "      <td>1</td>\n",
       "      <td>0</td>\n",
       "      <td>21</td>\n",
       "    </tr>\n",
       "    <tr>\n",
       "      <th>94584874</th>\n",
       "      <td>0</td>\n",
       "      <td>0</td>\n",
       "      <td>1</td>\n",
       "    </tr>\n",
       "    <tr>\n",
       "      <th>...</th>\n",
       "      <td>...</td>\n",
       "      <td>...</td>\n",
       "      <td>...</td>\n",
       "    </tr>\n",
       "    <tr>\n",
       "      <th>579968863</th>\n",
       "      <td>0</td>\n",
       "      <td>0</td>\n",
       "      <td>1</td>\n",
       "    </tr>\n",
       "    <tr>\n",
       "      <th>579969045</th>\n",
       "      <td>0</td>\n",
       "      <td>0</td>\n",
       "      <td>11</td>\n",
       "    </tr>\n",
       "    <tr>\n",
       "      <th>579969525</th>\n",
       "      <td>0</td>\n",
       "      <td>0</td>\n",
       "      <td>1</td>\n",
       "    </tr>\n",
       "    <tr>\n",
       "      <th>579969570</th>\n",
       "      <td>0</td>\n",
       "      <td>0</td>\n",
       "      <td>3</td>\n",
       "    </tr>\n",
       "    <tr>\n",
       "      <th>579969851</th>\n",
       "      <td>0</td>\n",
       "      <td>0</td>\n",
       "      <td>1</td>\n",
       "    </tr>\n",
       "  </tbody>\n",
       "</table>\n",
       "<p>2438160 rows × 3 columns</p>\n",
       "</div>"
      ],
      "text/plain": [
       "event_type  cart  purchase  view\n",
       "user_id                         \n",
       "31198833       0         0    18\n",
       "41798457       0         0     1\n",
       "88309646       0         0     1\n",
       "94566147       1         0    21\n",
       "94584874       0         0     1\n",
       "...          ...       ...   ...\n",
       "579968863      0         0     1\n",
       "579969045      0         0    11\n",
       "579969525      0         0     1\n",
       "579969570      0         0     3\n",
       "579969851      0         0     1\n",
       "\n",
       "[2438160 rows x 3 columns]"
      ]
     },
     "execution_count": 36,
     "metadata": {},
     "output_type": "execute_result"
    }
   ],
   "source": [
    "df.pivot_table(index='user_id',\n",
    "                   columns='event_type',\n",
    "                   values='event_time',\n",
    "                  aggfunc='count', fill_value=0).sort_values('user_id')"
   ]
  },
  {
   "cell_type": "code",
   "execution_count": null,
   "id": "eb42088e",
   "metadata": {},
   "outputs": [],
   "source": []
  },
  {
   "cell_type": "code",
   "execution_count": null,
   "id": "5727e3e8",
   "metadata": {},
   "outputs": [],
   "source": []
  },
  {
   "cell_type": "code",
   "execution_count": null,
   "id": "f446d4d3",
   "metadata": {},
   "outputs": [],
   "source": []
  },
  {
   "cell_type": "code",
   "execution_count": 83,
   "id": "ddc0bee1",
   "metadata": {
    "ExecuteTime": {
     "end_time": "2023-03-10T12:27:38.154076Z",
     "start_time": "2023-03-10T12:27:37.374224Z"
    }
   },
   "outputs": [
    {
     "ename": "KeyError",
     "evalue": "\"Column(s) ['event_date'] do not exist\"",
     "output_type": "error",
     "traceback": [
      "\u001b[1;31m---------------------------------------------------------------------------\u001b[0m",
      "\u001b[1;31mKeyError\u001b[0m                                  Traceback (most recent call last)",
      "\u001b[1;32m~\\AppData\\Local\\Temp\\ipykernel_4480\\250862332.py\u001b[0m in \u001b[0;36m<module>\u001b[1;34m\u001b[0m\n\u001b[1;32m----> 1\u001b[1;33m \u001b[0mcohort_data\u001b[0m \u001b[1;33m=\u001b[0m \u001b[0mdf\u001b[0m\u001b[1;33m.\u001b[0m\u001b[0msample\u001b[0m\u001b[1;33m(\u001b[0m\u001b[1;36m1000\u001b[0m\u001b[1;33m)\u001b[0m\u001b[1;33m.\u001b[0m\u001b[0mgroupby\u001b[0m\u001b[1;33m(\u001b[0m\u001b[1;33m[\u001b[0m\u001b[1;34m'user_id'\u001b[0m\u001b[1;33m]\u001b[0m\u001b[1;33m)\u001b[0m\u001b[1;33m.\u001b[0m\u001b[0magg\u001b[0m\u001b[1;33m(\u001b[0m\u001b[1;33m{\u001b[0m\u001b[1;34m'event_time'\u001b[0m\u001b[1;33m:\u001b[0m \u001b[1;34m'min'\u001b[0m\u001b[1;33m,\u001b[0m \u001b[1;34m'event_date'\u001b[0m\u001b[1;33m:\u001b[0m \u001b[1;34m'min'\u001b[0m\u001b[1;33m}\u001b[0m\u001b[1;33m)\u001b[0m\u001b[1;33m\u001b[0m\u001b[1;33m\u001b[0m\u001b[0m\n\u001b[0m\u001b[0;32m      2\u001b[0m \u001b[0mcohort_data\u001b[0m\u001b[1;33m.\u001b[0m\u001b[0mcolumns\u001b[0m \u001b[1;33m=\u001b[0m \u001b[1;33m[\u001b[0m\u001b[1;34m'cohort_start'\u001b[0m\u001b[1;33m,\u001b[0m \u001b[1;34m'cohort_date'\u001b[0m\u001b[1;33m]\u001b[0m\u001b[1;33m\u001b[0m\u001b[1;33m\u001b[0m\u001b[0m\n\u001b[0;32m      3\u001b[0m \u001b[0mcohort_data\u001b[0m\u001b[1;33m.\u001b[0m\u001b[0mreset_index\u001b[0m\u001b[1;33m(\u001b[0m\u001b[0minplace\u001b[0m\u001b[1;33m=\u001b[0m\u001b[1;32mTrue\u001b[0m\u001b[1;33m)\u001b[0m\u001b[1;33m\u001b[0m\u001b[1;33m\u001b[0m\u001b[0m\n\u001b[0;32m      4\u001b[0m \u001b[0mcohort_data\u001b[0m\u001b[1;33m[\u001b[0m\u001b[1;34m'cohort_start'\u001b[0m\u001b[1;33m]\u001b[0m \u001b[1;33m=\u001b[0m \u001b[0mpd\u001b[0m\u001b[1;33m.\u001b[0m\u001b[0mto_datetime\u001b[0m\u001b[1;33m(\u001b[0m\u001b[0mcohort_data\u001b[0m\u001b[1;33m[\u001b[0m\u001b[1;34m'cohort_start'\u001b[0m\u001b[1;33m]\u001b[0m\u001b[1;33m)\u001b[0m\u001b[1;33m\u001b[0m\u001b[1;33m\u001b[0m\u001b[0m\n\u001b[0;32m      5\u001b[0m \u001b[0mcohort_data\u001b[0m\u001b[1;33m[\u001b[0m\u001b[1;34m'cohort_date'\u001b[0m\u001b[1;33m]\u001b[0m \u001b[1;33m=\u001b[0m \u001b[0mpd\u001b[0m\u001b[1;33m.\u001b[0m\u001b[0mto_datetime\u001b[0m\u001b[1;33m(\u001b[0m\u001b[0mcohort_data\u001b[0m\u001b[1;33m[\u001b[0m\u001b[1;34m'cohort_date'\u001b[0m\u001b[1;33m]\u001b[0m\u001b[1;33m)\u001b[0m\u001b[1;33m\u001b[0m\u001b[1;33m\u001b[0m\u001b[0m\n",
      "\u001b[1;32m~\\anaconda3\\lib\\site-packages\\pandas\\core\\groupby\\generic.py\u001b[0m in \u001b[0;36maggregate\u001b[1;34m(self, func, engine, engine_kwargs, *args, **kwargs)\u001b[0m\n\u001b[0;32m    867\u001b[0m \u001b[1;33m\u001b[0m\u001b[0m\n\u001b[0;32m    868\u001b[0m         \u001b[0mop\u001b[0m \u001b[1;33m=\u001b[0m \u001b[0mGroupByApply\u001b[0m\u001b[1;33m(\u001b[0m\u001b[0mself\u001b[0m\u001b[1;33m,\u001b[0m \u001b[0mfunc\u001b[0m\u001b[1;33m,\u001b[0m \u001b[0margs\u001b[0m\u001b[1;33m,\u001b[0m \u001b[0mkwargs\u001b[0m\u001b[1;33m)\u001b[0m\u001b[1;33m\u001b[0m\u001b[1;33m\u001b[0m\u001b[0m\n\u001b[1;32m--> 869\u001b[1;33m         \u001b[0mresult\u001b[0m \u001b[1;33m=\u001b[0m \u001b[0mop\u001b[0m\u001b[1;33m.\u001b[0m\u001b[0magg\u001b[0m\u001b[1;33m(\u001b[0m\u001b[1;33m)\u001b[0m\u001b[1;33m\u001b[0m\u001b[1;33m\u001b[0m\u001b[0m\n\u001b[0m\u001b[0;32m    870\u001b[0m         \u001b[1;32mif\u001b[0m \u001b[1;32mnot\u001b[0m \u001b[0mis_dict_like\u001b[0m\u001b[1;33m(\u001b[0m\u001b[0mfunc\u001b[0m\u001b[1;33m)\u001b[0m \u001b[1;32mand\u001b[0m \u001b[0mresult\u001b[0m \u001b[1;32mis\u001b[0m \u001b[1;32mnot\u001b[0m \u001b[1;32mNone\u001b[0m\u001b[1;33m:\u001b[0m\u001b[1;33m\u001b[0m\u001b[1;33m\u001b[0m\u001b[0m\n\u001b[0;32m    871\u001b[0m             \u001b[1;32mreturn\u001b[0m \u001b[0mresult\u001b[0m\u001b[1;33m\u001b[0m\u001b[1;33m\u001b[0m\u001b[0m\n",
      "\u001b[1;32m~\\anaconda3\\lib\\site-packages\\pandas\\core\\apply.py\u001b[0m in \u001b[0;36magg\u001b[1;34m(self)\u001b[0m\n\u001b[0;32m    166\u001b[0m \u001b[1;33m\u001b[0m\u001b[0m\n\u001b[0;32m    167\u001b[0m         \u001b[1;32mif\u001b[0m \u001b[0mis_dict_like\u001b[0m\u001b[1;33m(\u001b[0m\u001b[0marg\u001b[0m\u001b[1;33m)\u001b[0m\u001b[1;33m:\u001b[0m\u001b[1;33m\u001b[0m\u001b[1;33m\u001b[0m\u001b[0m\n\u001b[1;32m--> 168\u001b[1;33m             \u001b[1;32mreturn\u001b[0m \u001b[0mself\u001b[0m\u001b[1;33m.\u001b[0m\u001b[0magg_dict_like\u001b[0m\u001b[1;33m(\u001b[0m\u001b[1;33m)\u001b[0m\u001b[1;33m\u001b[0m\u001b[1;33m\u001b[0m\u001b[0m\n\u001b[0m\u001b[0;32m    169\u001b[0m         \u001b[1;32melif\u001b[0m \u001b[0mis_list_like\u001b[0m\u001b[1;33m(\u001b[0m\u001b[0marg\u001b[0m\u001b[1;33m)\u001b[0m\u001b[1;33m:\u001b[0m\u001b[1;33m\u001b[0m\u001b[1;33m\u001b[0m\u001b[0m\n\u001b[0;32m    170\u001b[0m             \u001b[1;31m# we require a list, but not a 'str'\u001b[0m\u001b[1;33m\u001b[0m\u001b[1;33m\u001b[0m\u001b[0m\n",
      "\u001b[1;32m~\\anaconda3\\lib\\site-packages\\pandas\\core\\apply.py\u001b[0m in \u001b[0;36magg_dict_like\u001b[1;34m(self)\u001b[0m\n\u001b[0;32m    471\u001b[0m             \u001b[0mselection\u001b[0m \u001b[1;33m=\u001b[0m \u001b[0mobj\u001b[0m\u001b[1;33m.\u001b[0m\u001b[0m_selection\u001b[0m\u001b[1;33m\u001b[0m\u001b[1;33m\u001b[0m\u001b[0m\n\u001b[0;32m    472\u001b[0m \u001b[1;33m\u001b[0m\u001b[0m\n\u001b[1;32m--> 473\u001b[1;33m         \u001b[0marg\u001b[0m \u001b[1;33m=\u001b[0m \u001b[0mself\u001b[0m\u001b[1;33m.\u001b[0m\u001b[0mnormalize_dictlike_arg\u001b[0m\u001b[1;33m(\u001b[0m\u001b[1;34m\"agg\"\u001b[0m\u001b[1;33m,\u001b[0m \u001b[0mselected_obj\u001b[0m\u001b[1;33m,\u001b[0m \u001b[0marg\u001b[0m\u001b[1;33m)\u001b[0m\u001b[1;33m\u001b[0m\u001b[1;33m\u001b[0m\u001b[0m\n\u001b[0m\u001b[0;32m    474\u001b[0m \u001b[1;33m\u001b[0m\u001b[0m\n\u001b[0;32m    475\u001b[0m         \u001b[1;32mif\u001b[0m \u001b[0mselected_obj\u001b[0m\u001b[1;33m.\u001b[0m\u001b[0mndim\u001b[0m \u001b[1;33m==\u001b[0m \u001b[1;36m1\u001b[0m\u001b[1;33m:\u001b[0m\u001b[1;33m\u001b[0m\u001b[1;33m\u001b[0m\u001b[0m\n",
      "\u001b[1;32m~\\anaconda3\\lib\\site-packages\\pandas\\core\\apply.py\u001b[0m in \u001b[0;36mnormalize_dictlike_arg\u001b[1;34m(self, how, obj, func)\u001b[0m\n\u001b[0;32m    589\u001b[0m             \u001b[1;32mif\u001b[0m \u001b[0mlen\u001b[0m\u001b[1;33m(\u001b[0m\u001b[0mcols\u001b[0m\u001b[1;33m)\u001b[0m \u001b[1;33m>\u001b[0m \u001b[1;36m0\u001b[0m\u001b[1;33m:\u001b[0m\u001b[1;33m\u001b[0m\u001b[1;33m\u001b[0m\u001b[0m\n\u001b[0;32m    590\u001b[0m                 \u001b[0mcols_sorted\u001b[0m \u001b[1;33m=\u001b[0m \u001b[0mlist\u001b[0m\u001b[1;33m(\u001b[0m\u001b[0msafe_sort\u001b[0m\u001b[1;33m(\u001b[0m\u001b[0mlist\u001b[0m\u001b[1;33m(\u001b[0m\u001b[0mcols\u001b[0m\u001b[1;33m)\u001b[0m\u001b[1;33m)\u001b[0m\u001b[1;33m)\u001b[0m\u001b[1;33m\u001b[0m\u001b[1;33m\u001b[0m\u001b[0m\n\u001b[1;32m--> 591\u001b[1;33m                 \u001b[1;32mraise\u001b[0m \u001b[0mKeyError\u001b[0m\u001b[1;33m(\u001b[0m\u001b[1;34mf\"Column(s) {cols_sorted} do not exist\"\u001b[0m\u001b[1;33m)\u001b[0m\u001b[1;33m\u001b[0m\u001b[1;33m\u001b[0m\u001b[0m\n\u001b[0m\u001b[0;32m    592\u001b[0m \u001b[1;33m\u001b[0m\u001b[0m\n\u001b[0;32m    593\u001b[0m         \u001b[0mis_aggregator\u001b[0m \u001b[1;33m=\u001b[0m \u001b[1;32mlambda\u001b[0m \u001b[0mx\u001b[0m\u001b[1;33m:\u001b[0m \u001b[0misinstance\u001b[0m\u001b[1;33m(\u001b[0m\u001b[0mx\u001b[0m\u001b[1;33m,\u001b[0m \u001b[1;33m(\u001b[0m\u001b[0mlist\u001b[0m\u001b[1;33m,\u001b[0m \u001b[0mtuple\u001b[0m\u001b[1;33m,\u001b[0m \u001b[0mdict\u001b[0m\u001b[1;33m)\u001b[0m\u001b[1;33m)\u001b[0m\u001b[1;33m\u001b[0m\u001b[1;33m\u001b[0m\u001b[0m\n",
      "\u001b[1;31mKeyError\u001b[0m: \"Column(s) ['event_date'] do not exist\""
     ]
    }
   ],
   "source": [
    "cohort_data = df.sample(1000).groupby(['user_id']).agg({'event_time': 'min', 'event_date': 'min'})\n",
    "cohort_data.columns = ['cohort_start', 'cohort_date']\n",
    "cohort_data.reset_index(inplace=True)\n",
    "cohort_data['cohort_start'] = pd.to_datetime(cohort_data['cohort_start'])\n",
    "cohort_data['cohort_date'] = pd.to_datetime(cohort_data['cohort_date'])"
   ]
  },
  {
   "cell_type": "code",
   "execution_count": null,
   "id": "6e2527a1",
   "metadata": {},
   "outputs": [],
   "source": []
  },
  {
   "cell_type": "code",
   "execution_count": null,
   "id": "46e10d32",
   "metadata": {},
   "outputs": [],
   "source": []
  },
  {
   "cell_type": "code",
   "execution_count": null,
   "id": "4a1187aa",
   "metadata": {},
   "outputs": [],
   "source": []
  },
  {
   "cell_type": "code",
   "execution_count": null,
   "id": "32f96505",
   "metadata": {},
   "outputs": [],
   "source": []
  },
  {
   "cell_type": "code",
   "execution_count": null,
   "id": "25274da1",
   "metadata": {},
   "outputs": [],
   "source": []
  }
 ],
 "metadata": {
  "kernelspec": {
   "display_name": "Python 3 (ipykernel)",
   "language": "python",
   "name": "python3"
  },
  "language_info": {
   "codemirror_mode": {
    "name": "ipython",
    "version": 3
   },
   "file_extension": ".py",
   "mimetype": "text/x-python",
   "name": "python",
   "nbconvert_exporter": "python",
   "pygments_lexer": "ipython3",
   "version": "3.9.13"
  },
  "toc": {
   "base_numbering": 1,
   "nav_menu": {},
   "number_sections": true,
   "sideBar": true,
   "skip_h1_title": false,
   "title_cell": "Table of Contents",
   "title_sidebar": "Contents",
   "toc_cell": false,
   "toc_position": {},
   "toc_section_display": true,
   "toc_window_display": false
  },
  "varInspector": {
   "cols": {
    "lenName": 16,
    "lenType": 16,
    "lenVar": 40
   },
   "kernels_config": {
    "python": {
     "delete_cmd_postfix": "",
     "delete_cmd_prefix": "del ",
     "library": "var_list.py",
     "varRefreshCmd": "print(var_dic_list())"
    },
    "r": {
     "delete_cmd_postfix": ") ",
     "delete_cmd_prefix": "rm(",
     "library": "var_list.r",
     "varRefreshCmd": "cat(var_dic_list()) "
    }
   },
   "types_to_exclude": [
    "module",
    "function",
    "builtin_function_or_method",
    "instance",
    "_Feature"
   ],
   "window_display": false
  }
 },
 "nbformat": 4,
 "nbformat_minor": 5
}
